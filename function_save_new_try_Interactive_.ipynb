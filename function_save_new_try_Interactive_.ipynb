{
  "cells": [
    {
      "cell_type": "markdown",
      "metadata": {
        "id": "view-in-github",
        "colab_type": "text"
      },
      "source": [
        "<a href=\"https://colab.research.google.com/github/WebiksInc/data-explorer/blob/add-stop-word/function_save_new_try_Interactive_.ipynb\" target=\"_parent\"><img src=\"https://colab.research.google.com/assets/colab-badge.svg\" alt=\"Open In Colab\"/></a>"
      ]
    },
    {
      "cell_type": "code",
      "execution_count": null,
      "metadata": {
        "extensions": {
          "jupyter_dashboards": {
            "version": 1,
            "views": {
              "default_view": {
                "hidden": true
              }
            }
          }
        },
        "pycharm": {
          "name": "#%%\n"
        },
        "id": "O8ZAWclXi7Oa"
      },
      "outputs": [],
      "source": [
        "import pandas as pd\n",
        "import numpy as np\n",
        "import matplotlib.pyplot as plt\n",
        "%matplotlib inline\n",
        "import plotly.express as px\n",
        "import plotly.graph_objects as go\n",
        "from plotly.subplots import make_subplots\n",
        "\n",
        "import pickle\n",
        "\n",
        "import ipywidgets as widgets\n",
        "from ipywidgets import interact, interact_manual\n",
        "import IPython.display\n",
        "from IPython.display import display, clear_output\n",
        "import os\n",
        "import warnings\n",
        "warnings.filterwarnings('ignore')\n",
        "\n",
        "path_main = r'C:\\corpus\\for display'\n",
        "os.chdir(path_main)\n",
        "process_data = False\n",
        "\n",
        "###voila"
      ]
    },
    {
      "cell_type": "markdown",
      "metadata": {
        "extensions": {
          "jupyter_dashboards": {
            "version": 1,
            "views": {
              "default_view": {
                "col": 0,
                "height": 5,
                "row": 0,
                "width": 4
              }
            }
          }
        },
        "id": "NNl_xmaai7Of"
      },
      "source": [
        "# Comparison of datasets"
      ]
    },
    {
      "cell_type": "code",
      "execution_count": null,
      "metadata": {
        "extensions": {
          "jupyter_dashboards": {
            "version": 1,
            "views": {
              "default_view": {
                "col": 4,
                "height": 12,
                "row": 0,
                "width": 8
              }
            }
          }
        },
        "scrolled": false,
        "id": "YhyFGPwdi7On",
        "outputId": "e80df73a-3d69-4e52-d0c0-60d5b735ff38"
      },
      "outputs": [
        {
          "data": {
            "application/vnd.plotly.v1+json": {
              "config": {
                "plotlyServerURL": "https://plot.ly"
              },
              "data": [
                {
                  "orientation": "h",
                  "type": "bar",
                  "x": [
                    41809752,
                    1606032,
                    11465,
                    19531,
                    780506,
                    291594,
                    8029,
                    88622,
                    8424,
                    232695,
                    1979,
                    69125,
                    7723,
                    346706,
                    482957,
                    7518102,
                    6984,
                    20150,
                    1571,
                    61482,
                    18435,
                    576567,
                    18420,
                    75969,
                    236690,
                    236690,
                    1936,
                    179135,
                    68666,
                    1173215,
                    4722,
                    4722,
                    7631,
                    124759,
                    3937,
                    514621,
                    12015,
                    807627
                  ],
                  "xaxis": "x",
                  "y": [
                    "ben yehuda",
                    "think IL",
                    "paraShoot",
                    "Hebrew-Sentiment",
                    "HeBERT Emotion Recognition",
                    "wikipedia",
                    "Arutz 7 (mila)",
                    "Arutz 7 df",
                    "Doctors (mila)",
                    "Doctors df",
                    "Foodpage Corpus (mila)",
                    "Foodpage Corpus df",
                    "haaretz (mila)",
                    "haaretz df",
                    "HaKnesset (mila)",
                    "HaKnesset df",
                    "Hebrew Dotted Text (mila)",
                    "Hebrew Dotted Text df",
                    "Infomed (mila)",
                    "Infomed df",
                    "Learning Man (mila)",
                    "Learning Man df",
                    "Nature of Healing (mila)",
                    "Nature of Healing df",
                    "Spoken Israeli Hebrew (mila)",
                    "Spoken Israeli Hebrew df",
                    "Sport5 Corpus (mila)",
                    "Sport5 Corpus df",
                    "Tapuz People Forum (mila)",
                    "Tapuz People Forum df",
                    "TheMarker (mila)",
                    "TheMarker df",
                    "To Be Healthy (mila)",
                    "To Be Healthy df",
                    "Walla Food Corpus (mila)",
                    "Walla Food Corpus df",
                    "Walla Sport Corpus (mila)",
                    "Walla Sport Corpus df"
                  ],
                  "yaxis": "y"
                },
                {
                  "orientation": "h",
                  "type": "bar",
                  "x": [
                    14587,
                    282,
                    1792,
                    846,
                    42997,
                    500,
                    11,
                    98,
                    11,
                    294,
                    11,
                    414,
                    11,
                    887,
                    11,
                    167,
                    11,
                    27,
                    11,
                    337,
                    11,
                    383,
                    11,
                    59,
                    4,
                    4,
                    11,
                    938,
                    11,
                    186,
                    8,
                    8,
                    11,
                    149,
                    11,
                    1050,
                    11,
                    1119
                  ],
                  "xaxis": "x2",
                  "y": [
                    "ben yehuda",
                    "think IL",
                    "paraShoot",
                    "Hebrew-Sentiment",
                    "HeBERT Emotion Recognition",
                    "wikipedia",
                    "Arutz 7 (mila)",
                    "Arutz 7 df",
                    "Doctors (mila)",
                    "Doctors df",
                    "Foodpage Corpus (mila)",
                    "Foodpage Corpus df",
                    "haaretz (mila)",
                    "haaretz df",
                    "HaKnesset (mila)",
                    "HaKnesset df",
                    "Hebrew Dotted Text (mila)",
                    "Hebrew Dotted Text df",
                    "Infomed (mila)",
                    "Infomed df",
                    "Learning Man (mila)",
                    "Learning Man df",
                    "Nature of Healing (mila)",
                    "Nature of Healing df",
                    "Spoken Israeli Hebrew (mila)",
                    "Spoken Israeli Hebrew df",
                    "Sport5 Corpus (mila)",
                    "Sport5 Corpus df",
                    "Tapuz People Forum (mila)",
                    "Tapuz People Forum df",
                    "TheMarker (mila)",
                    "TheMarker df",
                    "To Be Healthy (mila)",
                    "To Be Healthy df",
                    "Walla Food Corpus (mila)",
                    "Walla Food Corpus df",
                    "Walla Sport Corpus (mila)",
                    "Walla Sport Corpus df"
                  ],
                  "yaxis": "y2"
                }
              ],
              "layout": {
                "annotations": [
                  {
                    "font": {
                      "size": 16
                    },
                    "showarrow": false,
                    "text": "Number of Words",
                    "x": 0.225,
                    "xanchor": "center",
                    "xref": "paper",
                    "y": 1,
                    "yanchor": "bottom",
                    "yref": "paper"
                  },
                  {
                    "font": {
                      "size": 16
                    },
                    "showarrow": false,
                    "text": "Number of Lines",
                    "x": 0.775,
                    "xanchor": "center",
                    "xref": "paper",
                    "y": 1,
                    "yanchor": "bottom",
                    "yref": "paper"
                  }
                ],
                "showlegend": false,
                "template": {
                  "data": {
                    "bar": [
                      {
                        "error_x": {
                          "color": "#2a3f5f"
                        },
                        "error_y": {
                          "color": "#2a3f5f"
                        },
                        "marker": {
                          "line": {
                            "color": "#E5ECF6",
                            "width": 0.5
                          },
                          "pattern": {
                            "fillmode": "overlay",
                            "size": 10,
                            "solidity": 0.2
                          }
                        },
                        "type": "bar"
                      }
                    ],
                    "barpolar": [
                      {
                        "marker": {
                          "line": {
                            "color": "#E5ECF6",
                            "width": 0.5
                          },
                          "pattern": {
                            "fillmode": "overlay",
                            "size": 10,
                            "solidity": 0.2
                          }
                        },
                        "type": "barpolar"
                      }
                    ],
                    "carpet": [
                      {
                        "aaxis": {
                          "endlinecolor": "#2a3f5f",
                          "gridcolor": "white",
                          "linecolor": "white",
                          "minorgridcolor": "white",
                          "startlinecolor": "#2a3f5f"
                        },
                        "baxis": {
                          "endlinecolor": "#2a3f5f",
                          "gridcolor": "white",
                          "linecolor": "white",
                          "minorgridcolor": "white",
                          "startlinecolor": "#2a3f5f"
                        },
                        "type": "carpet"
                      }
                    ],
                    "choropleth": [
                      {
                        "colorbar": {
                          "outlinewidth": 0,
                          "ticks": ""
                        },
                        "type": "choropleth"
                      }
                    ],
                    "contour": [
                      {
                        "colorbar": {
                          "outlinewidth": 0,
                          "ticks": ""
                        },
                        "colorscale": [
                          [
                            0,
                            "#0d0887"
                          ],
                          [
                            0.1111111111111111,
                            "#46039f"
                          ],
                          [
                            0.2222222222222222,
                            "#7201a8"
                          ],
                          [
                            0.3333333333333333,
                            "#9c179e"
                          ],
                          [
                            0.4444444444444444,
                            "#bd3786"
                          ],
                          [
                            0.5555555555555556,
                            "#d8576b"
                          ],
                          [
                            0.6666666666666666,
                            "#ed7953"
                          ],
                          [
                            0.7777777777777778,
                            "#fb9f3a"
                          ],
                          [
                            0.8888888888888888,
                            "#fdca26"
                          ],
                          [
                            1,
                            "#f0f921"
                          ]
                        ],
                        "type": "contour"
                      }
                    ],
                    "contourcarpet": [
                      {
                        "colorbar": {
                          "outlinewidth": 0,
                          "ticks": ""
                        },
                        "type": "contourcarpet"
                      }
                    ],
                    "heatmap": [
                      {
                        "colorbar": {
                          "outlinewidth": 0,
                          "ticks": ""
                        },
                        "colorscale": [
                          [
                            0,
                            "#0d0887"
                          ],
                          [
                            0.1111111111111111,
                            "#46039f"
                          ],
                          [
                            0.2222222222222222,
                            "#7201a8"
                          ],
                          [
                            0.3333333333333333,
                            "#9c179e"
                          ],
                          [
                            0.4444444444444444,
                            "#bd3786"
                          ],
                          [
                            0.5555555555555556,
                            "#d8576b"
                          ],
                          [
                            0.6666666666666666,
                            "#ed7953"
                          ],
                          [
                            0.7777777777777778,
                            "#fb9f3a"
                          ],
                          [
                            0.8888888888888888,
                            "#fdca26"
                          ],
                          [
                            1,
                            "#f0f921"
                          ]
                        ],
                        "type": "heatmap"
                      }
                    ],
                    "heatmapgl": [
                      {
                        "colorbar": {
                          "outlinewidth": 0,
                          "ticks": ""
                        },
                        "colorscale": [
                          [
                            0,
                            "#0d0887"
                          ],
                          [
                            0.1111111111111111,
                            "#46039f"
                          ],
                          [
                            0.2222222222222222,
                            "#7201a8"
                          ],
                          [
                            0.3333333333333333,
                            "#9c179e"
                          ],
                          [
                            0.4444444444444444,
                            "#bd3786"
                          ],
                          [
                            0.5555555555555556,
                            "#d8576b"
                          ],
                          [
                            0.6666666666666666,
                            "#ed7953"
                          ],
                          [
                            0.7777777777777778,
                            "#fb9f3a"
                          ],
                          [
                            0.8888888888888888,
                            "#fdca26"
                          ],
                          [
                            1,
                            "#f0f921"
                          ]
                        ],
                        "type": "heatmapgl"
                      }
                    ],
                    "histogram": [
                      {
                        "marker": {
                          "pattern": {
                            "fillmode": "overlay",
                            "size": 10,
                            "solidity": 0.2
                          }
                        },
                        "type": "histogram"
                      }
                    ],
                    "histogram2d": [
                      {
                        "colorbar": {
                          "outlinewidth": 0,
                          "ticks": ""
                        },
                        "colorscale": [
                          [
                            0,
                            "#0d0887"
                          ],
                          [
                            0.1111111111111111,
                            "#46039f"
                          ],
                          [
                            0.2222222222222222,
                            "#7201a8"
                          ],
                          [
                            0.3333333333333333,
                            "#9c179e"
                          ],
                          [
                            0.4444444444444444,
                            "#bd3786"
                          ],
                          [
                            0.5555555555555556,
                            "#d8576b"
                          ],
                          [
                            0.6666666666666666,
                            "#ed7953"
                          ],
                          [
                            0.7777777777777778,
                            "#fb9f3a"
                          ],
                          [
                            0.8888888888888888,
                            "#fdca26"
                          ],
                          [
                            1,
                            "#f0f921"
                          ]
                        ],
                        "type": "histogram2d"
                      }
                    ],
                    "histogram2dcontour": [
                      {
                        "colorbar": {
                          "outlinewidth": 0,
                          "ticks": ""
                        },
                        "colorscale": [
                          [
                            0,
                            "#0d0887"
                          ],
                          [
                            0.1111111111111111,
                            "#46039f"
                          ],
                          [
                            0.2222222222222222,
                            "#7201a8"
                          ],
                          [
                            0.3333333333333333,
                            "#9c179e"
                          ],
                          [
                            0.4444444444444444,
                            "#bd3786"
                          ],
                          [
                            0.5555555555555556,
                            "#d8576b"
                          ],
                          [
                            0.6666666666666666,
                            "#ed7953"
                          ],
                          [
                            0.7777777777777778,
                            "#fb9f3a"
                          ],
                          [
                            0.8888888888888888,
                            "#fdca26"
                          ],
                          [
                            1,
                            "#f0f921"
                          ]
                        ],
                        "type": "histogram2dcontour"
                      }
                    ],
                    "mesh3d": [
                      {
                        "colorbar": {
                          "outlinewidth": 0,
                          "ticks": ""
                        },
                        "type": "mesh3d"
                      }
                    ],
                    "parcoords": [
                      {
                        "line": {
                          "colorbar": {
                            "outlinewidth": 0,
                            "ticks": ""
                          }
                        },
                        "type": "parcoords"
                      }
                    ],
                    "pie": [
                      {
                        "automargin": true,
                        "type": "pie"
                      }
                    ],
                    "scatter": [
                      {
                        "fillpattern": {
                          "fillmode": "overlay",
                          "size": 10,
                          "solidity": 0.2
                        },
                        "type": "scatter"
                      }
                    ],
                    "scatter3d": [
                      {
                        "line": {
                          "colorbar": {
                            "outlinewidth": 0,
                            "ticks": ""
                          }
                        },
                        "marker": {
                          "colorbar": {
                            "outlinewidth": 0,
                            "ticks": ""
                          }
                        },
                        "type": "scatter3d"
                      }
                    ],
                    "scattercarpet": [
                      {
                        "marker": {
                          "colorbar": {
                            "outlinewidth": 0,
                            "ticks": ""
                          }
                        },
                        "type": "scattercarpet"
                      }
                    ],
                    "scattergeo": [
                      {
                        "marker": {
                          "colorbar": {
                            "outlinewidth": 0,
                            "ticks": ""
                          }
                        },
                        "type": "scattergeo"
                      }
                    ],
                    "scattergl": [
                      {
                        "marker": {
                          "colorbar": {
                            "outlinewidth": 0,
                            "ticks": ""
                          }
                        },
                        "type": "scattergl"
                      }
                    ],
                    "scattermapbox": [
                      {
                        "marker": {
                          "colorbar": {
                            "outlinewidth": 0,
                            "ticks": ""
                          }
                        },
                        "type": "scattermapbox"
                      }
                    ],
                    "scatterpolar": [
                      {
                        "marker": {
                          "colorbar": {
                            "outlinewidth": 0,
                            "ticks": ""
                          }
                        },
                        "type": "scatterpolar"
                      }
                    ],
                    "scatterpolargl": [
                      {
                        "marker": {
                          "colorbar": {
                            "outlinewidth": 0,
                            "ticks": ""
                          }
                        },
                        "type": "scatterpolargl"
                      }
                    ],
                    "scatterternary": [
                      {
                        "marker": {
                          "colorbar": {
                            "outlinewidth": 0,
                            "ticks": ""
                          }
                        },
                        "type": "scatterternary"
                      }
                    ],
                    "surface": [
                      {
                        "colorbar": {
                          "outlinewidth": 0,
                          "ticks": ""
                        },
                        "colorscale": [
                          [
                            0,
                            "#0d0887"
                          ],
                          [
                            0.1111111111111111,
                            "#46039f"
                          ],
                          [
                            0.2222222222222222,
                            "#7201a8"
                          ],
                          [
                            0.3333333333333333,
                            "#9c179e"
                          ],
                          [
                            0.4444444444444444,
                            "#bd3786"
                          ],
                          [
                            0.5555555555555556,
                            "#d8576b"
                          ],
                          [
                            0.6666666666666666,
                            "#ed7953"
                          ],
                          [
                            0.7777777777777778,
                            "#fb9f3a"
                          ],
                          [
                            0.8888888888888888,
                            "#fdca26"
                          ],
                          [
                            1,
                            "#f0f921"
                          ]
                        ],
                        "type": "surface"
                      }
                    ],
                    "table": [
                      {
                        "cells": {
                          "fill": {
                            "color": "#EBF0F8"
                          },
                          "line": {
                            "color": "white"
                          }
                        },
                        "header": {
                          "fill": {
                            "color": "#C8D4E3"
                          },
                          "line": {
                            "color": "white"
                          }
                        },
                        "type": "table"
                      }
                    ]
                  },
                  "layout": {
                    "annotationdefaults": {
                      "arrowcolor": "#2a3f5f",
                      "arrowhead": 0,
                      "arrowwidth": 1
                    },
                    "autotypenumbers": "strict",
                    "coloraxis": {
                      "colorbar": {
                        "outlinewidth": 0,
                        "ticks": ""
                      }
                    },
                    "colorscale": {
                      "diverging": [
                        [
                          0,
                          "#8e0152"
                        ],
                        [
                          0.1,
                          "#c51b7d"
                        ],
                        [
                          0.2,
                          "#de77ae"
                        ],
                        [
                          0.3,
                          "#f1b6da"
                        ],
                        [
                          0.4,
                          "#fde0ef"
                        ],
                        [
                          0.5,
                          "#f7f7f7"
                        ],
                        [
                          0.6,
                          "#e6f5d0"
                        ],
                        [
                          0.7,
                          "#b8e186"
                        ],
                        [
                          0.8,
                          "#7fbc41"
                        ],
                        [
                          0.9,
                          "#4d9221"
                        ],
                        [
                          1,
                          "#276419"
                        ]
                      ],
                      "sequential": [
                        [
                          0,
                          "#0d0887"
                        ],
                        [
                          0.1111111111111111,
                          "#46039f"
                        ],
                        [
                          0.2222222222222222,
                          "#7201a8"
                        ],
                        [
                          0.3333333333333333,
                          "#9c179e"
                        ],
                        [
                          0.4444444444444444,
                          "#bd3786"
                        ],
                        [
                          0.5555555555555556,
                          "#d8576b"
                        ],
                        [
                          0.6666666666666666,
                          "#ed7953"
                        ],
                        [
                          0.7777777777777778,
                          "#fb9f3a"
                        ],
                        [
                          0.8888888888888888,
                          "#fdca26"
                        ],
                        [
                          1,
                          "#f0f921"
                        ]
                      ],
                      "sequentialminus": [
                        [
                          0,
                          "#0d0887"
                        ],
                        [
                          0.1111111111111111,
                          "#46039f"
                        ],
                        [
                          0.2222222222222222,
                          "#7201a8"
                        ],
                        [
                          0.3333333333333333,
                          "#9c179e"
                        ],
                        [
                          0.4444444444444444,
                          "#bd3786"
                        ],
                        [
                          0.5555555555555556,
                          "#d8576b"
                        ],
                        [
                          0.6666666666666666,
                          "#ed7953"
                        ],
                        [
                          0.7777777777777778,
                          "#fb9f3a"
                        ],
                        [
                          0.8888888888888888,
                          "#fdca26"
                        ],
                        [
                          1,
                          "#f0f921"
                        ]
                      ]
                    },
                    "colorway": [
                      "#636efa",
                      "#EF553B",
                      "#00cc96",
                      "#ab63fa",
                      "#FFA15A",
                      "#19d3f3",
                      "#FF6692",
                      "#B6E880",
                      "#FF97FF",
                      "#FECB52"
                    ],
                    "font": {
                      "color": "#2a3f5f"
                    },
                    "geo": {
                      "bgcolor": "white",
                      "lakecolor": "white",
                      "landcolor": "#E5ECF6",
                      "showlakes": true,
                      "showland": true,
                      "subunitcolor": "white"
                    },
                    "hoverlabel": {
                      "align": "left"
                    },
                    "hovermode": "closest",
                    "mapbox": {
                      "style": "light"
                    },
                    "paper_bgcolor": "white",
                    "plot_bgcolor": "#E5ECF6",
                    "polar": {
                      "angularaxis": {
                        "gridcolor": "white",
                        "linecolor": "white",
                        "ticks": ""
                      },
                      "bgcolor": "#E5ECF6",
                      "radialaxis": {
                        "gridcolor": "white",
                        "linecolor": "white",
                        "ticks": ""
                      }
                    },
                    "scene": {
                      "xaxis": {
                        "backgroundcolor": "#E5ECF6",
                        "gridcolor": "white",
                        "gridwidth": 2,
                        "linecolor": "white",
                        "showbackground": true,
                        "ticks": "",
                        "zerolinecolor": "white"
                      },
                      "yaxis": {
                        "backgroundcolor": "#E5ECF6",
                        "gridcolor": "white",
                        "gridwidth": 2,
                        "linecolor": "white",
                        "showbackground": true,
                        "ticks": "",
                        "zerolinecolor": "white"
                      },
                      "zaxis": {
                        "backgroundcolor": "#E5ECF6",
                        "gridcolor": "white",
                        "gridwidth": 2,
                        "linecolor": "white",
                        "showbackground": true,
                        "ticks": "",
                        "zerolinecolor": "white"
                      }
                    },
                    "shapedefaults": {
                      "line": {
                        "color": "#2a3f5f"
                      }
                    },
                    "ternary": {
                      "aaxis": {
                        "gridcolor": "white",
                        "linecolor": "white",
                        "ticks": ""
                      },
                      "baxis": {
                        "gridcolor": "white",
                        "linecolor": "white",
                        "ticks": ""
                      },
                      "bgcolor": "#E5ECF6",
                      "caxis": {
                        "gridcolor": "white",
                        "linecolor": "white",
                        "ticks": ""
                      }
                    },
                    "title": {
                      "x": 0.05
                    },
                    "xaxis": {
                      "automargin": true,
                      "gridcolor": "white",
                      "linecolor": "white",
                      "ticks": "",
                      "title": {
                        "standoff": 15
                      },
                      "zerolinecolor": "white",
                      "zerolinewidth": 2
                    },
                    "yaxis": {
                      "automargin": true,
                      "gridcolor": "white",
                      "linecolor": "white",
                      "ticks": "",
                      "title": {
                        "standoff": 15
                      },
                      "zerolinecolor": "white",
                      "zerolinewidth": 2
                    }
                  }
                },
                "xaxis": {
                  "anchor": "y",
                  "domain": [
                    0,
                    0.45
                  ],
                  "type": "log"
                },
                "xaxis2": {
                  "anchor": "y2",
                  "domain": [
                    0.55,
                    1
                  ],
                  "type": "log"
                },
                "yaxis": {
                  "anchor": "x",
                  "domain": [
                    0,
                    1
                  ]
                },
                "yaxis2": {
                  "anchor": "x2",
                  "domain": [
                    0,
                    1
                  ]
                }
              }
            },
            "text/html": [
              "<div>                            <div id=\"30a06922-df4b-4d22-8d2b-8d614e765e6f\" class=\"plotly-graph-div\" style=\"height:525px; width:100%;\"></div>            <script type=\"text/javascript\">                require([\"plotly\"], function(Plotly) {                    window.PLOTLYENV=window.PLOTLYENV || {};                                    if (document.getElementById(\"30a06922-df4b-4d22-8d2b-8d614e765e6f\")) {                    Plotly.newPlot(                        \"30a06922-df4b-4d22-8d2b-8d614e765e6f\",                        [{\"orientation\":\"h\",\"x\":[41809752,1606032,11465,19531,780506,291594,8029,88622,8424,232695,1979,69125,7723,346706,482957,7518102,6984,20150,1571,61482,18435,576567,18420,75969,236690,236690,1936,179135,68666,1173215,4722,4722,7631,124759,3937,514621,12015,807627],\"y\":[\"ben yehuda\",\"think IL\",\"paraShoot\",\"Hebrew-Sentiment\",\"HeBERT Emotion Recognition\",\"wikipedia\",\"Arutz 7 (mila)\",\"Arutz 7 df\",\"Doctors (mila)\",\"Doctors df\",\"Foodpage Corpus (mila)\",\"Foodpage Corpus df\",\"haaretz (mila)\",\"haaretz df\",\"HaKnesset (mila)\",\"HaKnesset df\",\"Hebrew Dotted Text (mila)\",\"Hebrew Dotted Text df\",\"Infomed (mila)\",\"Infomed df\",\"Learning Man (mila)\",\"Learning Man df\",\"Nature of Healing (mila)\",\"Nature of Healing df\",\"Spoken Israeli Hebrew (mila)\",\"Spoken Israeli Hebrew df\",\"Sport5 Corpus (mila)\",\"Sport5 Corpus df\",\"Tapuz People Forum (mila)\",\"Tapuz People Forum df\",\"TheMarker (mila)\",\"TheMarker df\",\"To Be Healthy (mila)\",\"To Be Healthy df\",\"Walla Food Corpus (mila)\",\"Walla Food Corpus df\",\"Walla Sport Corpus (mila)\",\"Walla Sport Corpus df\"],\"type\":\"bar\",\"xaxis\":\"x\",\"yaxis\":\"y\"},{\"orientation\":\"h\",\"x\":[14587,282,1792,846,42997,500,11,98,11,294,11,414,11,887,11,167,11,27,11,337,11,383,11,59,4,4,11,938,11,186,8,8,11,149,11,1050,11,1119],\"y\":[\"ben yehuda\",\"think IL\",\"paraShoot\",\"Hebrew-Sentiment\",\"HeBERT Emotion Recognition\",\"wikipedia\",\"Arutz 7 (mila)\",\"Arutz 7 df\",\"Doctors (mila)\",\"Doctors df\",\"Foodpage Corpus (mila)\",\"Foodpage Corpus df\",\"haaretz (mila)\",\"haaretz df\",\"HaKnesset (mila)\",\"HaKnesset df\",\"Hebrew Dotted Text (mila)\",\"Hebrew Dotted Text df\",\"Infomed (mila)\",\"Infomed df\",\"Learning Man (mila)\",\"Learning Man df\",\"Nature of Healing (mila)\",\"Nature of Healing df\",\"Spoken Israeli Hebrew (mila)\",\"Spoken Israeli Hebrew df\",\"Sport5 Corpus (mila)\",\"Sport5 Corpus df\",\"Tapuz People Forum (mila)\",\"Tapuz People Forum df\",\"TheMarker (mila)\",\"TheMarker df\",\"To Be Healthy (mila)\",\"To Be Healthy df\",\"Walla Food Corpus (mila)\",\"Walla Food Corpus df\",\"Walla Sport Corpus (mila)\",\"Walla Sport Corpus df\"],\"type\":\"bar\",\"xaxis\":\"x2\",\"yaxis\":\"y2\"}],                        {\"template\":{\"data\":{\"histogram2dcontour\":[{\"type\":\"histogram2dcontour\",\"colorbar\":{\"outlinewidth\":0,\"ticks\":\"\"},\"colorscale\":[[0.0,\"#0d0887\"],[0.1111111111111111,\"#46039f\"],[0.2222222222222222,\"#7201a8\"],[0.3333333333333333,\"#9c179e\"],[0.4444444444444444,\"#bd3786\"],[0.5555555555555556,\"#d8576b\"],[0.6666666666666666,\"#ed7953\"],[0.7777777777777778,\"#fb9f3a\"],[0.8888888888888888,\"#fdca26\"],[1.0,\"#f0f921\"]]}],\"choropleth\":[{\"type\":\"choropleth\",\"colorbar\":{\"outlinewidth\":0,\"ticks\":\"\"}}],\"histogram2d\":[{\"type\":\"histogram2d\",\"colorbar\":{\"outlinewidth\":0,\"ticks\":\"\"},\"colorscale\":[[0.0,\"#0d0887\"],[0.1111111111111111,\"#46039f\"],[0.2222222222222222,\"#7201a8\"],[0.3333333333333333,\"#9c179e\"],[0.4444444444444444,\"#bd3786\"],[0.5555555555555556,\"#d8576b\"],[0.6666666666666666,\"#ed7953\"],[0.7777777777777778,\"#fb9f3a\"],[0.8888888888888888,\"#fdca26\"],[1.0,\"#f0f921\"]]}],\"heatmap\":[{\"type\":\"heatmap\",\"colorbar\":{\"outlinewidth\":0,\"ticks\":\"\"},\"colorscale\":[[0.0,\"#0d0887\"],[0.1111111111111111,\"#46039f\"],[0.2222222222222222,\"#7201a8\"],[0.3333333333333333,\"#9c179e\"],[0.4444444444444444,\"#bd3786\"],[0.5555555555555556,\"#d8576b\"],[0.6666666666666666,\"#ed7953\"],[0.7777777777777778,\"#fb9f3a\"],[0.8888888888888888,\"#fdca26\"],[1.0,\"#f0f921\"]]}],\"heatmapgl\":[{\"type\":\"heatmapgl\",\"colorbar\":{\"outlinewidth\":0,\"ticks\":\"\"},\"colorscale\":[[0.0,\"#0d0887\"],[0.1111111111111111,\"#46039f\"],[0.2222222222222222,\"#7201a8\"],[0.3333333333333333,\"#9c179e\"],[0.4444444444444444,\"#bd3786\"],[0.5555555555555556,\"#d8576b\"],[0.6666666666666666,\"#ed7953\"],[0.7777777777777778,\"#fb9f3a\"],[0.8888888888888888,\"#fdca26\"],[1.0,\"#f0f921\"]]}],\"contourcarpet\":[{\"type\":\"contourcarpet\",\"colorbar\":{\"outlinewidth\":0,\"ticks\":\"\"}}],\"contour\":[{\"type\":\"contour\",\"colorbar\":{\"outlinewidth\":0,\"ticks\":\"\"},\"colorscale\":[[0.0,\"#0d0887\"],[0.1111111111111111,\"#46039f\"],[0.2222222222222222,\"#7201a8\"],[0.3333333333333333,\"#9c179e\"],[0.4444444444444444,\"#bd3786\"],[0.5555555555555556,\"#d8576b\"],[0.6666666666666666,\"#ed7953\"],[0.7777777777777778,\"#fb9f3a\"],[0.8888888888888888,\"#fdca26\"],[1.0,\"#f0f921\"]]}],\"surface\":[{\"type\":\"surface\",\"colorbar\":{\"outlinewidth\":0,\"ticks\":\"\"},\"colorscale\":[[0.0,\"#0d0887\"],[0.1111111111111111,\"#46039f\"],[0.2222222222222222,\"#7201a8\"],[0.3333333333333333,\"#9c179e\"],[0.4444444444444444,\"#bd3786\"],[0.5555555555555556,\"#d8576b\"],[0.6666666666666666,\"#ed7953\"],[0.7777777777777778,\"#fb9f3a\"],[0.8888888888888888,\"#fdca26\"],[1.0,\"#f0f921\"]]}],\"mesh3d\":[{\"type\":\"mesh3d\",\"colorbar\":{\"outlinewidth\":0,\"ticks\":\"\"}}],\"scatter\":[{\"fillpattern\":{\"fillmode\":\"overlay\",\"size\":10,\"solidity\":0.2},\"type\":\"scatter\"}],\"parcoords\":[{\"type\":\"parcoords\",\"line\":{\"colorbar\":{\"outlinewidth\":0,\"ticks\":\"\"}}}],\"scatterpolargl\":[{\"type\":\"scatterpolargl\",\"marker\":{\"colorbar\":{\"outlinewidth\":0,\"ticks\":\"\"}}}],\"bar\":[{\"error_x\":{\"color\":\"#2a3f5f\"},\"error_y\":{\"color\":\"#2a3f5f\"},\"marker\":{\"line\":{\"color\":\"#E5ECF6\",\"width\":0.5},\"pattern\":{\"fillmode\":\"overlay\",\"size\":10,\"solidity\":0.2}},\"type\":\"bar\"}],\"scattergeo\":[{\"type\":\"scattergeo\",\"marker\":{\"colorbar\":{\"outlinewidth\":0,\"ticks\":\"\"}}}],\"scatterpolar\":[{\"type\":\"scatterpolar\",\"marker\":{\"colorbar\":{\"outlinewidth\":0,\"ticks\":\"\"}}}],\"histogram\":[{\"marker\":{\"pattern\":{\"fillmode\":\"overlay\",\"size\":10,\"solidity\":0.2}},\"type\":\"histogram\"}],\"scattergl\":[{\"type\":\"scattergl\",\"marker\":{\"colorbar\":{\"outlinewidth\":0,\"ticks\":\"\"}}}],\"scatter3d\":[{\"type\":\"scatter3d\",\"line\":{\"colorbar\":{\"outlinewidth\":0,\"ticks\":\"\"}},\"marker\":{\"colorbar\":{\"outlinewidth\":0,\"ticks\":\"\"}}}],\"scattermapbox\":[{\"type\":\"scattermapbox\",\"marker\":{\"colorbar\":{\"outlinewidth\":0,\"ticks\":\"\"}}}],\"scatterternary\":[{\"type\":\"scatterternary\",\"marker\":{\"colorbar\":{\"outlinewidth\":0,\"ticks\":\"\"}}}],\"scattercarpet\":[{\"type\":\"scattercarpet\",\"marker\":{\"colorbar\":{\"outlinewidth\":0,\"ticks\":\"\"}}}],\"carpet\":[{\"aaxis\":{\"endlinecolor\":\"#2a3f5f\",\"gridcolor\":\"white\",\"linecolor\":\"white\",\"minorgridcolor\":\"white\",\"startlinecolor\":\"#2a3f5f\"},\"baxis\":{\"endlinecolor\":\"#2a3f5f\",\"gridcolor\":\"white\",\"linecolor\":\"white\",\"minorgridcolor\":\"white\",\"startlinecolor\":\"#2a3f5f\"},\"type\":\"carpet\"}],\"table\":[{\"cells\":{\"fill\":{\"color\":\"#EBF0F8\"},\"line\":{\"color\":\"white\"}},\"header\":{\"fill\":{\"color\":\"#C8D4E3\"},\"line\":{\"color\":\"white\"}},\"type\":\"table\"}],\"barpolar\":[{\"marker\":{\"line\":{\"color\":\"#E5ECF6\",\"width\":0.5},\"pattern\":{\"fillmode\":\"overlay\",\"size\":10,\"solidity\":0.2}},\"type\":\"barpolar\"}],\"pie\":[{\"automargin\":true,\"type\":\"pie\"}]},\"layout\":{\"autotypenumbers\":\"strict\",\"colorway\":[\"#636efa\",\"#EF553B\",\"#00cc96\",\"#ab63fa\",\"#FFA15A\",\"#19d3f3\",\"#FF6692\",\"#B6E880\",\"#FF97FF\",\"#FECB52\"],\"font\":{\"color\":\"#2a3f5f\"},\"hovermode\":\"closest\",\"hoverlabel\":{\"align\":\"left\"},\"paper_bgcolor\":\"white\",\"plot_bgcolor\":\"#E5ECF6\",\"polar\":{\"bgcolor\":\"#E5ECF6\",\"angularaxis\":{\"gridcolor\":\"white\",\"linecolor\":\"white\",\"ticks\":\"\"},\"radialaxis\":{\"gridcolor\":\"white\",\"linecolor\":\"white\",\"ticks\":\"\"}},\"ternary\":{\"bgcolor\":\"#E5ECF6\",\"aaxis\":{\"gridcolor\":\"white\",\"linecolor\":\"white\",\"ticks\":\"\"},\"baxis\":{\"gridcolor\":\"white\",\"linecolor\":\"white\",\"ticks\":\"\"},\"caxis\":{\"gridcolor\":\"white\",\"linecolor\":\"white\",\"ticks\":\"\"}},\"coloraxis\":{\"colorbar\":{\"outlinewidth\":0,\"ticks\":\"\"}},\"colorscale\":{\"sequential\":[[0.0,\"#0d0887\"],[0.1111111111111111,\"#46039f\"],[0.2222222222222222,\"#7201a8\"],[0.3333333333333333,\"#9c179e\"],[0.4444444444444444,\"#bd3786\"],[0.5555555555555556,\"#d8576b\"],[0.6666666666666666,\"#ed7953\"],[0.7777777777777778,\"#fb9f3a\"],[0.8888888888888888,\"#fdca26\"],[1.0,\"#f0f921\"]],\"sequentialminus\":[[0.0,\"#0d0887\"],[0.1111111111111111,\"#46039f\"],[0.2222222222222222,\"#7201a8\"],[0.3333333333333333,\"#9c179e\"],[0.4444444444444444,\"#bd3786\"],[0.5555555555555556,\"#d8576b\"],[0.6666666666666666,\"#ed7953\"],[0.7777777777777778,\"#fb9f3a\"],[0.8888888888888888,\"#fdca26\"],[1.0,\"#f0f921\"]],\"diverging\":[[0,\"#8e0152\"],[0.1,\"#c51b7d\"],[0.2,\"#de77ae\"],[0.3,\"#f1b6da\"],[0.4,\"#fde0ef\"],[0.5,\"#f7f7f7\"],[0.6,\"#e6f5d0\"],[0.7,\"#b8e186\"],[0.8,\"#7fbc41\"],[0.9,\"#4d9221\"],[1,\"#276419\"]]},\"xaxis\":{\"gridcolor\":\"white\",\"linecolor\":\"white\",\"ticks\":\"\",\"title\":{\"standoff\":15},\"zerolinecolor\":\"white\",\"automargin\":true,\"zerolinewidth\":2},\"yaxis\":{\"gridcolor\":\"white\",\"linecolor\":\"white\",\"ticks\":\"\",\"title\":{\"standoff\":15},\"zerolinecolor\":\"white\",\"automargin\":true,\"zerolinewidth\":2},\"scene\":{\"xaxis\":{\"backgroundcolor\":\"#E5ECF6\",\"gridcolor\":\"white\",\"linecolor\":\"white\",\"showbackground\":true,\"ticks\":\"\",\"zerolinecolor\":\"white\",\"gridwidth\":2},\"yaxis\":{\"backgroundcolor\":\"#E5ECF6\",\"gridcolor\":\"white\",\"linecolor\":\"white\",\"showbackground\":true,\"ticks\":\"\",\"zerolinecolor\":\"white\",\"gridwidth\":2},\"zaxis\":{\"backgroundcolor\":\"#E5ECF6\",\"gridcolor\":\"white\",\"linecolor\":\"white\",\"showbackground\":true,\"ticks\":\"\",\"zerolinecolor\":\"white\",\"gridwidth\":2}},\"shapedefaults\":{\"line\":{\"color\":\"#2a3f5f\"}},\"annotationdefaults\":{\"arrowcolor\":\"#2a3f5f\",\"arrowhead\":0,\"arrowwidth\":1},\"geo\":{\"bgcolor\":\"white\",\"landcolor\":\"#E5ECF6\",\"subunitcolor\":\"white\",\"showland\":true,\"showlakes\":true,\"lakecolor\":\"white\"},\"title\":{\"x\":0.05},\"mapbox\":{\"style\":\"light\"}}},\"xaxis\":{\"anchor\":\"y\",\"domain\":[0.0,0.45],\"type\":\"log\"},\"yaxis\":{\"anchor\":\"x\",\"domain\":[0.0,1.0]},\"xaxis2\":{\"anchor\":\"y2\",\"domain\":[0.55,1.0],\"type\":\"log\"},\"yaxis2\":{\"anchor\":\"x2\",\"domain\":[0.0,1.0]},\"annotations\":[{\"font\":{\"size\":16},\"showarrow\":false,\"text\":\"Number of Words\",\"x\":0.225,\"xanchor\":\"center\",\"xref\":\"paper\",\"y\":1.0,\"yanchor\":\"bottom\",\"yref\":\"paper\"},{\"font\":{\"size\":16},\"showarrow\":false,\"text\":\"Number of Lines\",\"x\":0.775,\"xanchor\":\"center\",\"xref\":\"paper\",\"y\":1.0,\"yanchor\":\"bottom\",\"yref\":\"paper\"}],\"showlegend\":false},                        {\"responsive\": true}                    ).then(function(){\n",
              "                            \n",
              "var gd = document.getElementById('30a06922-df4b-4d22-8d2b-8d614e765e6f');\n",
              "var x = new MutationObserver(function (mutations, observer) {{\n",
              "        var display = window.getComputedStyle(gd).display;\n",
              "        if (!display || display === 'none') {{\n",
              "            console.log([gd, 'removed!']);\n",
              "            Plotly.purge(gd);\n",
              "            observer.disconnect();\n",
              "        }}\n",
              "}});\n",
              "\n",
              "// Listen for the removal of the full notebook cells\n",
              "var notebookContainer = gd.closest('#notebook-container');\n",
              "if (notebookContainer) {{\n",
              "    x.observe(notebookContainer, {childList: true});\n",
              "}}\n",
              "\n",
              "// Listen for the clearing of the current output cell\n",
              "var outputEl = gd.closest('.output');\n",
              "if (outputEl) {{\n",
              "    x.observe(outputEl, {childList: true});\n",
              "}}\n",
              "\n",
              "                        })                };                });            </script>        </div>"
            ]
          },
          "metadata": {},
          "output_type": "display_data"
        }
      ],
      "source": [
        "def number_lines(df:pd.Series) -> int:\n",
        "    num_line = df.shape[0]\n",
        "    return num_line\n",
        "\n",
        "def number_words(df:pd.Series) -> int:\n",
        "    return df[df.notnull()].astype(\"string\").str.split().apply(len).sum()\n",
        "\n",
        "def create_folder(directory):\n",
        "    if not os.path.exists(directory):\n",
        "        os.makedirs(directory)\n",
        "        \n",
        "def plot_shape_all_data(names):\n",
        "    if process_data:\n",
        "        result = {}\n",
        "        fx = lambda x: [number_words(x),number_lines(x)]\n",
        "        for index in names:\n",
        "            if  index == 'ben yehuda':\n",
        "                df = pd.read_csv(r'C:\\corpus\\ben yehuda\\df.csv')\n",
        "                result[index] = fx(df['line'])\n",
        "            elif index == 'think IL':\n",
        "                df = pd.read_csv(r'C:\\corpus\\think il\\df think IL token.tsv',sep = '\\t')\n",
        "                df = df.rename(columns={'text':'line','auther':'author'})\n",
        "                result[index] = fx(df['line'])\n",
        "#             elif index == 'NER':\n",
        "#                 df = pd.read_csv(r'C:\\corpus\\NER Naama Ben-Mordecai\\df.csv',sep = '\\t')\n",
        "#                 result[index] = fx(df['line'])\n",
        "            elif index == 'paraShoot':\n",
        "                df = pd.read_csv('C:\\corpus\\ParaShoot\\df.csv',sep = '\\t')\n",
        "                df = df.rename(columns = {'question':'line'})\n",
        "                result[index] = fx(df['line'])\n",
        "            elif index == 'Hebrew-Sentiment':\n",
        "                df = pd.read_csv('C:\\corpus\\Hebrew-Sentiment-Data\\dev.tsv',sep = '\\t')\n",
        "                df = df.rename(columns = {'comment':'line'})\n",
        "                result[index] = fx(df['line'])\n",
        "            elif index == 'HeBERT Emotion Recognition':\n",
        "                df = pd.read_csv(r'C:\\corpus\\HeBERT Emotion Recognition\\test_insample_tagged_raw_to_publish.csv')\n",
        "                df = df.rename(columns = {'talkbacks':'line'})\n",
        "                result[index] = fx(df['line'])\n",
        "            elif index == 'wikipedia':\n",
        "                df = pd.read_csv(r'C:\\corpus\\subset wiki\\ he df.csv',sep = '\\t')\n",
        "                df = df.rename(columns = {'content':'line'})\n",
        "                result[index] = fx(df['line'])\n",
        "            elif index == 'mila':\n",
        "                for root, dirs, files in os.walk(r'C:\\corpus\\mila'):\n",
        "                    for file in files:\n",
        "                        if file.endswith('.csv'):\n",
        "                            df = pd.read_csv('C:\\\\corpus\\\\mila\\\\'+ file,sep = '\\t')\n",
        "                            df = df.rename(columns = {'text':'line'})\n",
        "                            result[file.split('.')[0]] = fx(df['line'])\n",
        "        result = pd.DataFrame.from_dict(result, orient='index').reset_index()\n",
        "        result.columns = ['Name Database','Number of Words','Number of Lines']\n",
        "        create_folder('main')\n",
        "        result.to_csv('main/result.csv')\n",
        "    else:\n",
        "        result = pd.read_csv('main/result.csv')\n",
        "        \n",
        "        fig = make_subplots(rows=1, cols=2,subplot_titles=(\"Number of Words\", \"Number of Lines\"))\n",
        "        fig.add_trace(\n",
        "            go.Bar(x=result['Number of Words'], y=result['Name Database'],orientation='h'),\n",
        "            row=1, col=1\n",
        "        )\n",
        "        fig.update_xaxes(type=\"log\", row=1, col=1)\n",
        "\n",
        "        fig.add_trace(\n",
        "            go.Bar(x=result['Number of Lines'], y=result['Name Database'],orientation='h'),\n",
        "            row=1, col=2\n",
        "        )\n",
        "        fig.update_xaxes(type=\"log\", row=1, col=2)\n",
        "        fig.update_layout(showlegend=False)\n",
        "        fig.show()\n",
        "process_data = False\n",
        "# process_data = True\n",
        "plot_shape_all_data(['ben yehuda','think IL','NER','paraShoot','Hebrew-Sentiment','HeBERT Emotion Recognition','wikipedia','mila'])"
      ]
    },
    {
      "cell_type": "code",
      "execution_count": null,
      "metadata": {
        "extensions": {
          "jupyter_dashboards": {
            "version": 1,
            "views": {
              "default_view": {
                "hidden": true
              }
            }
          }
        },
        "pycharm": {
          "name": "#%%\n"
        },
        "id": "CCKixAC0i7Op"
      },
      "outputs": [],
      "source": [
        "# function\n",
        "\n",
        "def number_lines(df:pd.Series) -> int:\n",
        "    num_line = df.shape[0]\n",
        "    return num_line\n",
        "\n",
        "\n",
        "\n",
        "def number_word_in_line(df:pd.Series) -> dict:\n",
        "    result = df.apply(lambda x: len(x.split(' ')))\n",
        "    # fig = px.histogram(result, x=\"line\")\n",
        "    return {'mean' : np.round(result.mean()),\n",
        "            'median' : result.median()}\n",
        "\n",
        "\n",
        "def char_freq(df:pd.Series,plot = False) -> px.bar:\n",
        "    from collections import Counter\n",
        "    x = df.tolist()\n",
        "    x = Counter(''.join(x))\n",
        "    x = dict(sorted(x.items(), key=lambda item: item[1]))\n",
        "    x.pop('\\u200f',None) #TODO: it's ok to delete this char?\n",
        "    return x\n",
        "    if plot:\n",
        "        fig = px.bar(x=x.values(), y=x.keys(), height=1500,width=800)\n",
        "        return fig\n",
        "    else:\n",
        "        return x\n",
        "\n",
        "\n",
        "def ngram(df:pd.Series, ngram:int) -> dict:\n",
        "    from sklearn.feature_extraction.text import CountVectorizer\n",
        "    df = df.replace('[^\\u0590-\\u05fe a-zA-Z]',' ',regex=True)\n",
        "    # Preparations\n",
        "    vec = CountVectorizer(ngram_range=(ngram, ngram)).fit(df)\n",
        "    bag_of_words = vec.transform(df)\n",
        "    sum_words = bag_of_words.sum(axis=0)\n",
        "    words_freq = [(word, sum_words[0, idx]) for word, idx in vec.vocabulary_.items()]\n",
        "    dat = pd.DataFrame(words_freq, columns=['word','frequency'])\n",
        "    dat = dat.sort_values('frequency',ascending = False)\n",
        "    one_apper = dat[dat['frequency'] == 1]\n",
        "\n",
        "    #gini\n",
        "    sorted_x = np.sort(dat['frequency'])\n",
        "    n = len(sorted_x)\n",
        "    cumx = np.cumsum(sorted_x, dtype=float)\n",
        "    gini = ((n + 1 - 2 * np.sum(cumx) / cumx[-1])/ n)\n",
        "\n",
        "    return({'shape unique words' : dat.shape[0],\n",
        "                'shape appeared once' : one_apper.shape[0],\n",
        "                'Percent appeared once' : one_apper.shape[0]/dat.shape[0],\n",
        "                'top unqiue words' : dat,\n",
        "#                 'tail unique words' : one_apper.sample(number_return),\n",
        "                'type-token ratio' : dat.shape[0]/dat['frequency'].sum(),\n",
        "                'Number Of Words' : dat['frequency'].sum(),\n",
        "                'gini' : gini\n",
        "                }\n",
        "        )\n",
        "\n",
        "\n",
        "\n",
        "def identity_duplicate_line(df:pd.Series) -> int:\n",
        "    return df.duplicated().sum()\n",
        "\n",
        "def topic_model(df:pd.Series,k = 4) -> list:\n",
        "    # https://github.com/ashishsalunkhe/Topic-Modeling-using-LDA-and-K-Means-Clustering/blob/master/newsgroup.ipynb\n",
        "    #important notebook\n",
        "    from sklearn.feature_extraction.text import TfidfVectorizer\n",
        "    text_content = df\n",
        "    vector = TfidfVectorizer()\n",
        "    tfidf = vector.fit_transform(text_content)\n",
        "\n",
        "    terms = vector.get_feature_names()\n",
        "\n",
        "    from sklearn.decomposition import NMF\n",
        "    result = []\n",
        "\n",
        "    nmf  = NMF(n_components = k)\n",
        "    nmf.fit(tfidf)\n",
        "    for i in range(0,k):\n",
        "        word_list=[]\n",
        "        # print(\"Topic%d:\"% i)\n",
        "        for j in nmf.components_.argsort()[i,-16:-1]:\n",
        "            word_list.append(terms[j])\n",
        "        result.append(word_list)\n",
        "    return result\n",
        "\n",
        "def co_occurrence(df:pd.Series,dirc: str) -> pd.DataFrame:\n",
        "    from sklearn.feature_extraction.text import CountVectorizer\n",
        "\n",
        "    temp = df.apply(lambda x: x.split('.')).explode()\n",
        "    count_model = CountVectorizer(ngram_range=(1,1))\n",
        "    X = count_model.fit_transform(temp)\n",
        "    Xc = (X.T * X)\n",
        "    Xc.setdiag(0)\n",
        "    co_oc = pd.DataFrame(Xc.todense(), \n",
        "                        columns=count_model.get_feature_names(), \n",
        "                        index=count_model.get_feature_names())\n",
        "    word_co = load_pickle(dirc,'ngram 1.pickle')['top unqiue words']['word'].head().to_list()\n",
        "    result = {}\n",
        "    for word in word_co:\n",
        "        temp = co_oc[word].nlargest(10).to_frame().reset_index()\n",
        "        temp.columns = ['number','word']\n",
        "        temp = temp.sort_values('word')\n",
        "        result[word] = temp\n",
        "    return result\n",
        "\n",
        "\n",
        "def detect_lang_croup(df:pd.Series) -> None:\n",
        "    from langdetect import detect_langs\n",
        "    temp = df.str.replace('[.,\\/#!?$%\\^&\\*;:{}=\\-_`~()\"0-9]','',regex = True)\n",
        "    temp = temp.str.replace('[\\u200f]','',regex = True)\n",
        "    temp = temp.replace(r'^\\s*$', np.nan, regex=True) # remove cell contain only spaces\n",
        "    temp = temp.replace('[]',np.nan) #remove []\n",
        "    temp = temp[temp.notnull()]\n",
        "    result = temp.apply(lambda x: detect_langs(x)[0].lang)\n",
        "    result = result.value_counts()\n",
        "    result = result.to_frame().reset_index()\n",
        "    return result\n",
        "    fig = px.pie(result, values='line', names='index', title='Distribution of languages in the text')\n",
        "    return fig\n",
        "\n",
        "\n",
        "def add_entity(x):\n",
        "    if x._.confidence_score > 0.75:\n",
        "        return [x.text, x.label_]\n",
        "    else:\n",
        "        return ['','']\n",
        "def entity_fun(x):\n",
        "    lst_text = []\n",
        "    lst_label = []\n",
        "    rows = []\n",
        "    doc = nlp(x)\n",
        "    for entity in doc.ents:\n",
        "        value = add_entity(entity)\n",
        "        # lst_text.append(value[0])\n",
        "        # lst_label.append(value[1])\n",
        "        rows.append(pd.Series({'text' : value[0], 'label' :value[1]}))\n",
        "    return tuple(rows)\n",
        "\n",
        "def entity(df:pd.Series,plot = True):\n",
        "    from tqdm import tqdm\n",
        "    import spacy\n",
        "    global nlp\n",
        "    nlp = spacy.load(\"he_ner_news_trf\")\n",
        "    tqdm.pandas()\n",
        "    data_entity = df.progress_apply(lambda x: entity_fun(x))\n",
        "    data = pd.DataFrame(data_entity.values, columns= ['line'])\n",
        "    data_x = data.explode('line')\n",
        "    data_x = data_x[~(data_x.line.isna())]\n",
        "    data_x = data_x.reset_index(drop=True)\n",
        "    temp = pd.DataFrame(data_x['line'].tolist(), columns= ['text','label'])\n",
        "    temp = temp[temp['text'].notnull()]\n",
        "    return temp\n",
        "    if plot:\n",
        "        import plotly.express as px\n",
        "        data_canada = temp[temp['label'] == 'PERS']['text'].value_counts().reset_index().head(10)\n",
        "        fig1 = px.bar(data_canada, x='index', y='text',title = 'entity: persons')\n",
        "\n",
        "        data_canada = temp['text'].value_counts().reset_index().head(10)\n",
        "        fig2 = px.bar(data_canada, x='index', y='text',title = 'entity: all')\n",
        "\n",
        "        data_canada = temp['label'].value_counts().reset_index()\n",
        "        data_canada.columns = ['lable','index']\n",
        "        fig3 = px.bar(data_canada, x='lable', y='index',title = 'entity: Distribution')\n",
        "        return (fig1,fig2,fig3,temp)\n",
        "    else:\n",
        "        return temp\n",
        "\n",
        "def translate_helper(x : str) -> str:\n",
        "    \"\"\"\n",
        "    get text, translate it to english and perform pos\n",
        "    \"\"\"\n",
        "    from transformers import AutoTokenizer, AutoModelForSeq2SeqLM\n",
        "    from transformers import MarianMTModel, MarianTokenizer\n",
        "    from flair.data import Sentence\n",
        "    from flair.models import SequenceTagger\n",
        "    import re\n",
        "    tagger = SequenceTagger.load(\"flair/pos-english\")\n",
        "    result = []\n",
        "    x = re.split('\\.|/',x) # We should also provide \\ as a separator for poems\n",
        "    def split_every_30_char(string,n):\n",
        "        words = string.split()\n",
        "        return [' '.join(words[i: i + n]) for i in range(0, len(words), n)]\n",
        "#     print([True if len(index) > 30 else False for index in x])\n",
        "    N = 4\n",
        "    x = [split_every_30_char(index,N) if len(index) > N else index for index in x]\n",
        "    def flatten(t):\n",
        "        return [item for sublist in t for item in sublist]\n",
        "    x = flatten(x)\n",
        "    \n",
        "    from transformers import AutoTokenizer, AutoModelForSeq2SeqLM\n",
        "    tokenizer = AutoTokenizer.from_pretrained(\"tiedeman/opus-mt-he-en\")\n",
        "    model = AutoModelForSeq2SeqLM.from_pretrained(\"tiedeman/opus-mt-he-en\")\n",
        "    \n",
        "#     model_name = \"tiedeman/opus-mt-he-en\"\n",
        "#     tokenizer = MarianTokenizer.from_pretrained(model_name)\n",
        "    for item in x:\n",
        "        if isinstance(item,str):\n",
        "#             item = GoogleTranslator(source='auto', target='en').translate(item)\n",
        "            \n",
        "            translated = model.generate(**tokenizer(item, return_tensors=\"pt\", padding=True))\n",
        "            item = ' '.join([tokenizer.decode(t, skip_special_tokens=True) for t in translated])\n",
        "#             return item\n",
        "            sentence = Sentence(item)\n",
        "            tagger.predict(sentence)\n",
        "            item = [i.value for i in sentence.get_labels('pos')]\n",
        "            result = result + item\n",
        "    return result\n",
        "\n",
        "\n",
        "def pos(df:pd.Series):\n",
        "    \"\"\"\n",
        "    return plot of pos in the text\n",
        "    \"\"\"\n",
        "    from flair.data import Sentence\n",
        "    from flair.models import SequenceTagger\n",
        "    tagger = SequenceTagger.load(\"flair/pos-english\")\n",
        "    from transformers import AutoTokenizer, AutoModelForSeq2SeqLM\n",
        "    from collections import Counter\n",
        "    from tqdm import tqdm\n",
        "\n",
        "    tokenizer = AutoTokenizer.from_pretrained(\"tiedeman/opus-mt-he-en\")\n",
        "    model = AutoModelForSeq2SeqLM.from_pretrained(\"tiedeman/opus-mt-he-en\")\n",
        "    tqdm.pandas()\n",
        "    translated = df.progress_apply(lambda x: translate_helper(x))\n",
        "    temp = translated.apply(pd.Series).stack().value_counts().to_frame().reset_index()\n",
        "    temp.columns = ['pos','sum']\n",
        "    return temp\n",
        "    fig = px.bar(temp, y='pos', x=\"sum\", title=\"Parts Of Speech\")\n",
        "    return fig\n",
        "\n",
        "def Zipf_law(df:pd.Series):\n",
        "    from sklearn.feature_extraction.text import CountVectorizer\n",
        "    df = df.replace('[^\\u0590-\\u05fe a-zA-Z]',' ',regex=True)\n",
        "    # Preparations\n",
        "    vec = CountVectorizer(ngram_range=(1, 1)).fit(df)\n",
        "    bag_of_words = vec.transform(df)\n",
        "    sum_words = bag_of_words.sum(axis=0)\n",
        "\n",
        "    temp = pd.DataFrame(zip(vec.get_feature_names(),bag_of_words.sum(axis=0).tolist()[0]))\n",
        "    temp.columns = ['words','freq']\n",
        "    temp = temp.sort_values('freq',ascending= False)\n",
        "    temp  = temp.reset_index(drop = True).reset_index(drop = False)\n",
        "    temp = temp.rename(columns = {'index':'rank'})\n",
        "    temp['rank'] = temp['rank'] + 1\n",
        "    temp['Zipf'] = (temp.loc[0,'freq']/temp['rank'])\n",
        "\n",
        "    temp['freq'] = temp['freq']/temp['freq'].sum()\n",
        "    temp['Zipf'] = temp['Zipf']/temp['Zipf'].sum()\n",
        "    \n",
        "    return temp\n",
        "    \n",
        "    fig = px.line(temp,y=['freq','Zipf'], x='rank')\n",
        "    fig.update_layout(xaxis_range=[0,30])\n",
        "    return fig\n",
        "\n",
        "def Connecting_words(x):\n",
        "    x = x.replace(\".\", \" \")\n",
        "    x = ' '.join(x.split())\n",
        "    x = x.split(' ')\n",
        "    return [len(i) for i in x]\n",
        "\n",
        "def len_word(df:pd.Series):\n",
        "    temp = df.apply(lambda x: Connecting_words(x))\n",
        "    import statistics\n",
        "    temp = sum(temp.tolist(), [])\n",
        "    return(statistics.mean(temp))"
      ]
    },
    {
      "cell_type": "code",
      "execution_count": null,
      "metadata": {
        "extensions": {
          "jupyter_dashboards": {
            "version": 1,
            "views": {
              "default_view": {
                "hidden": true
              }
            }
          }
        },
        "scrolled": false,
        "id": "zjg3B0Fqi7Or",
        "outputId": "3f1fc036-bd5c-4e69-b748-72eeb46eb172"
      },
      "outputs": [
        {
          "name": "stdout",
          "output_type": "stream",
          "text": [
            "ben yehuda\n",
            "think IL\n",
            "paraShoot\n",
            "Hebrew-Sentiment\n",
            "HeBERT\n",
            "wikipedia\n",
            "Arutz 7 (mila).csv\n",
            "Arutz 7 df.csv\n",
            "Doctors (mila).csv\n",
            "Doctors df.csv\n",
            "Foodpage Corpus (mila).csv\n",
            "Foodpage Corpus df.csv\n",
            "haaretz (mila).csv\n",
            "haaretz df.csv\n",
            "HaKnesset (mila).csv\n",
            "HaKnesset df.csv\n"
          ]
        },
        {
          "ename": "MemoryError",
          "evalue": "Unable to allocate 190. GiB for an array with shape (159659, 159659) and data type int64",
          "output_type": "error",
          "traceback": [
            "\u001b[1;31m---------------------------------------------------------------------------\u001b[0m",
            "\u001b[1;31mMemoryError\u001b[0m                               Traceback (most recent call last)",
            "\u001b[1;32m~\\AppData\\Local\\Temp/ipykernel_19604/2103825549.py\u001b[0m in \u001b[0;36m<module>\u001b[1;34m\u001b[0m\n\u001b[0;32m    135\u001b[0m                 \u001b[0mdf_altr\u001b[0m \u001b[1;33m=\u001b[0m \u001b[0mpd\u001b[0m\u001b[1;33m.\u001b[0m\u001b[0mDataFrame\u001b[0m\u001b[1;33m(\u001b[0m\u001b[1;33m)\u001b[0m\u001b[1;33m\u001b[0m\u001b[1;33m\u001b[0m\u001b[0m\n\u001b[0;32m    136\u001b[0m                 \u001b[0msave_function\u001b[0m\u001b[1;33m(\u001b[0m\u001b[0mdf\u001b[0m\u001b[1;33m,\u001b[0m\u001b[0mdf_altr\u001b[0m\u001b[1;33m,\u001b[0m\u001b[0mfile\u001b[0m\u001b[1;33m.\u001b[0m\u001b[0msplit\u001b[0m\u001b[1;33m(\u001b[0m\u001b[1;34m'.'\u001b[0m\u001b[1;33m)\u001b[0m\u001b[1;33m[\u001b[0m\u001b[1;36m0\u001b[0m\u001b[1;33m]\u001b[0m\u001b[1;33m)\u001b[0m\u001b[1;33m\u001b[0m\u001b[1;33m\u001b[0m\u001b[0m\n\u001b[1;32m--> 137\u001b[1;33m \u001b[0mload_database\u001b[0m\u001b[1;33m(\u001b[0m\u001b[1;33m)\u001b[0m\u001b[1;33m\u001b[0m\u001b[1;33m\u001b[0m\u001b[0m\n\u001b[0m",
            "\u001b[1;32m~\\AppData\\Local\\Temp/ipykernel_19604/2103825549.py\u001b[0m in \u001b[0;36mload_database\u001b[1;34m()\u001b[0m\n\u001b[0;32m    134\u001b[0m \u001b[1;31m#                     df['line'] = df['line'].sample(10)#.str.split().str[:500].str.join(' ')\u001b[0m\u001b[1;33m\u001b[0m\u001b[1;33m\u001b[0m\u001b[0m\n\u001b[0;32m    135\u001b[0m                 \u001b[0mdf_altr\u001b[0m \u001b[1;33m=\u001b[0m \u001b[0mpd\u001b[0m\u001b[1;33m.\u001b[0m\u001b[0mDataFrame\u001b[0m\u001b[1;33m(\u001b[0m\u001b[1;33m)\u001b[0m\u001b[1;33m\u001b[0m\u001b[1;33m\u001b[0m\u001b[0m\n\u001b[1;32m--> 136\u001b[1;33m                 \u001b[0msave_function\u001b[0m\u001b[1;33m(\u001b[0m\u001b[0mdf\u001b[0m\u001b[1;33m,\u001b[0m\u001b[0mdf_altr\u001b[0m\u001b[1;33m,\u001b[0m\u001b[0mfile\u001b[0m\u001b[1;33m.\u001b[0m\u001b[0msplit\u001b[0m\u001b[1;33m(\u001b[0m\u001b[1;34m'.'\u001b[0m\u001b[1;33m)\u001b[0m\u001b[1;33m[\u001b[0m\u001b[1;36m0\u001b[0m\u001b[1;33m]\u001b[0m\u001b[1;33m)\u001b[0m\u001b[1;33m\u001b[0m\u001b[1;33m\u001b[0m\u001b[0m\n\u001b[0m\u001b[0;32m    137\u001b[0m \u001b[0mload_database\u001b[0m\u001b[1;33m(\u001b[0m\u001b[1;33m)\u001b[0m\u001b[1;33m\u001b[0m\u001b[1;33m\u001b[0m\u001b[0m\n",
            "\u001b[1;32m~\\AppData\\Local\\Temp/ipykernel_19604/2103825549.py\u001b[0m in \u001b[0;36msave_function\u001b[1;34m(df, df_altr, dirc)\u001b[0m\n\u001b[0;32m     45\u001b[0m     \u001b[0msave_pickle\u001b[0m\u001b[1;33m(\u001b[0m\u001b[0mtemp\u001b[0m\u001b[1;33m,\u001b[0m\u001b[1;34m'topic model.pickle'\u001b[0m\u001b[1;33m)\u001b[0m\u001b[1;33m\u001b[0m\u001b[1;33m\u001b[0m\u001b[0m\n\u001b[0;32m     46\u001b[0m     \u001b[1;31m#co occurrence\u001b[0m\u001b[1;33m\u001b[0m\u001b[1;33m\u001b[0m\u001b[0m\n\u001b[1;32m---> 47\u001b[1;33m     \u001b[0mtemp\u001b[0m \u001b[1;33m=\u001b[0m \u001b[0mco_occurrence\u001b[0m\u001b[1;33m(\u001b[0m\u001b[0mdf\u001b[0m\u001b[1;33m[\u001b[0m\u001b[1;34m'line'\u001b[0m\u001b[1;33m]\u001b[0m\u001b[1;33m,\u001b[0m\u001b[0mdirc\u001b[0m\u001b[1;33m)\u001b[0m\u001b[1;33m\u001b[0m\u001b[1;33m\u001b[0m\u001b[0m\n\u001b[0m\u001b[0;32m     48\u001b[0m     \u001b[0msave_pickle\u001b[0m\u001b[1;33m(\u001b[0m\u001b[0mtemp\u001b[0m\u001b[1;33m,\u001b[0m\u001b[1;34m'co occurrence.pickle'\u001b[0m\u001b[1;33m)\u001b[0m\u001b[1;33m\u001b[0m\u001b[1;33m\u001b[0m\u001b[0m\n\u001b[0;32m     49\u001b[0m     \u001b[1;31m#number word in line\u001b[0m\u001b[1;33m\u001b[0m\u001b[1;33m\u001b[0m\u001b[0m\n",
            "\u001b[1;32m~\\AppData\\Local\\Temp/ipykernel_19604/96639610.py\u001b[0m in \u001b[0;36mco_occurrence\u001b[1;34m(df, dirc)\u001b[0m\n\u001b[0;32m     93\u001b[0m     \u001b[0mXc\u001b[0m \u001b[1;33m=\u001b[0m \u001b[1;33m(\u001b[0m\u001b[0mX\u001b[0m\u001b[1;33m.\u001b[0m\u001b[0mT\u001b[0m \u001b[1;33m*\u001b[0m \u001b[0mX\u001b[0m\u001b[1;33m)\u001b[0m\u001b[1;33m\u001b[0m\u001b[1;33m\u001b[0m\u001b[0m\n\u001b[0;32m     94\u001b[0m     \u001b[0mXc\u001b[0m\u001b[1;33m.\u001b[0m\u001b[0msetdiag\u001b[0m\u001b[1;33m(\u001b[0m\u001b[1;36m0\u001b[0m\u001b[1;33m)\u001b[0m\u001b[1;33m\u001b[0m\u001b[1;33m\u001b[0m\u001b[0m\n\u001b[1;32m---> 95\u001b[1;33m     co_oc = pd.DataFrame(Xc.todense(), \n\u001b[0m\u001b[0;32m     96\u001b[0m                         \u001b[0mcolumns\u001b[0m\u001b[1;33m=\u001b[0m\u001b[0mcount_model\u001b[0m\u001b[1;33m.\u001b[0m\u001b[0mget_feature_names\u001b[0m\u001b[1;33m(\u001b[0m\u001b[1;33m)\u001b[0m\u001b[1;33m,\u001b[0m\u001b[1;33m\u001b[0m\u001b[1;33m\u001b[0m\u001b[0m\n\u001b[0;32m     97\u001b[0m                         index=count_model.get_feature_names())\n",
            "\u001b[1;32m~\\anaconda3\\lib\\site-packages\\scipy\\sparse\\base.py\u001b[0m in \u001b[0;36mtodense\u001b[1;34m(self, order, out)\u001b[0m\n\u001b[0;32m    862\u001b[0m             \u001b[0;31m`\u001b[0m\u001b[0mnumpy\u001b[0m\u001b[1;33m.\u001b[0m\u001b[0mmatrix\u001b[0m\u001b[0;31m`\u001b[0m \u001b[0mobject\u001b[0m \u001b[0mthat\u001b[0m \u001b[0mshares\u001b[0m \u001b[0mthe\u001b[0m \u001b[0msame\u001b[0m \u001b[0mmemory\u001b[0m\u001b[1;33m.\u001b[0m\u001b[1;33m\u001b[0m\u001b[1;33m\u001b[0m\u001b[0m\n\u001b[0;32m    863\u001b[0m         \"\"\"\n\u001b[1;32m--> 864\u001b[1;33m         \u001b[1;32mreturn\u001b[0m \u001b[0masmatrix\u001b[0m\u001b[1;33m(\u001b[0m\u001b[0mself\u001b[0m\u001b[1;33m.\u001b[0m\u001b[0mtoarray\u001b[0m\u001b[1;33m(\u001b[0m\u001b[0morder\u001b[0m\u001b[1;33m=\u001b[0m\u001b[0morder\u001b[0m\u001b[1;33m,\u001b[0m \u001b[0mout\u001b[0m\u001b[1;33m=\u001b[0m\u001b[0mout\u001b[0m\u001b[1;33m)\u001b[0m\u001b[1;33m)\u001b[0m\u001b[1;33m\u001b[0m\u001b[1;33m\u001b[0m\u001b[0m\n\u001b[0m\u001b[0;32m    865\u001b[0m \u001b[1;33m\u001b[0m\u001b[0m\n\u001b[0;32m    866\u001b[0m     \u001b[1;32mdef\u001b[0m \u001b[0mtoarray\u001b[0m\u001b[1;33m(\u001b[0m\u001b[0mself\u001b[0m\u001b[1;33m,\u001b[0m \u001b[0morder\u001b[0m\u001b[1;33m=\u001b[0m\u001b[1;32mNone\u001b[0m\u001b[1;33m,\u001b[0m \u001b[0mout\u001b[0m\u001b[1;33m=\u001b[0m\u001b[1;32mNone\u001b[0m\u001b[1;33m)\u001b[0m\u001b[1;33m:\u001b[0m\u001b[1;33m\u001b[0m\u001b[1;33m\u001b[0m\u001b[0m\n",
            "\u001b[1;32m~\\anaconda3\\lib\\site-packages\\scipy\\sparse\\compressed.py\u001b[0m in \u001b[0;36mtoarray\u001b[1;34m(self, order, out)\u001b[0m\n\u001b[0;32m   1029\u001b[0m         \u001b[1;32mif\u001b[0m \u001b[0mout\u001b[0m \u001b[1;32mis\u001b[0m \u001b[1;32mNone\u001b[0m \u001b[1;32mand\u001b[0m \u001b[0morder\u001b[0m \u001b[1;32mis\u001b[0m \u001b[1;32mNone\u001b[0m\u001b[1;33m:\u001b[0m\u001b[1;33m\u001b[0m\u001b[1;33m\u001b[0m\u001b[0m\n\u001b[0;32m   1030\u001b[0m             \u001b[0morder\u001b[0m \u001b[1;33m=\u001b[0m \u001b[0mself\u001b[0m\u001b[1;33m.\u001b[0m\u001b[0m_swap\u001b[0m\u001b[1;33m(\u001b[0m\u001b[1;34m'cf'\u001b[0m\u001b[1;33m)\u001b[0m\u001b[1;33m[\u001b[0m\u001b[1;36m0\u001b[0m\u001b[1;33m]\u001b[0m\u001b[1;33m\u001b[0m\u001b[1;33m\u001b[0m\u001b[0m\n\u001b[1;32m-> 1031\u001b[1;33m         \u001b[0mout\u001b[0m \u001b[1;33m=\u001b[0m \u001b[0mself\u001b[0m\u001b[1;33m.\u001b[0m\u001b[0m_process_toarray_args\u001b[0m\u001b[1;33m(\u001b[0m\u001b[0morder\u001b[0m\u001b[1;33m,\u001b[0m \u001b[0mout\u001b[0m\u001b[1;33m)\u001b[0m\u001b[1;33m\u001b[0m\u001b[1;33m\u001b[0m\u001b[0m\n\u001b[0m\u001b[0;32m   1032\u001b[0m         \u001b[1;32mif\u001b[0m \u001b[1;32mnot\u001b[0m \u001b[1;33m(\u001b[0m\u001b[0mout\u001b[0m\u001b[1;33m.\u001b[0m\u001b[0mflags\u001b[0m\u001b[1;33m.\u001b[0m\u001b[0mc_contiguous\u001b[0m \u001b[1;32mor\u001b[0m \u001b[0mout\u001b[0m\u001b[1;33m.\u001b[0m\u001b[0mflags\u001b[0m\u001b[1;33m.\u001b[0m\u001b[0mf_contiguous\u001b[0m\u001b[1;33m)\u001b[0m\u001b[1;33m:\u001b[0m\u001b[1;33m\u001b[0m\u001b[1;33m\u001b[0m\u001b[0m\n\u001b[0;32m   1033\u001b[0m             \u001b[1;32mraise\u001b[0m \u001b[0mValueError\u001b[0m\u001b[1;33m(\u001b[0m\u001b[1;34m'Output array must be C or F contiguous'\u001b[0m\u001b[1;33m)\u001b[0m\u001b[1;33m\u001b[0m\u001b[1;33m\u001b[0m\u001b[0m\n",
            "\u001b[1;32m~\\anaconda3\\lib\\site-packages\\scipy\\sparse\\base.py\u001b[0m in \u001b[0;36m_process_toarray_args\u001b[1;34m(self, order, out)\u001b[0m\n\u001b[0;32m   1200\u001b[0m             \u001b[1;32mreturn\u001b[0m \u001b[0mout\u001b[0m\u001b[1;33m\u001b[0m\u001b[1;33m\u001b[0m\u001b[0m\n\u001b[0;32m   1201\u001b[0m         \u001b[1;32melse\u001b[0m\u001b[1;33m:\u001b[0m\u001b[1;33m\u001b[0m\u001b[1;33m\u001b[0m\u001b[0m\n\u001b[1;32m-> 1202\u001b[1;33m             \u001b[1;32mreturn\u001b[0m \u001b[0mnp\u001b[0m\u001b[1;33m.\u001b[0m\u001b[0mzeros\u001b[0m\u001b[1;33m(\u001b[0m\u001b[0mself\u001b[0m\u001b[1;33m.\u001b[0m\u001b[0mshape\u001b[0m\u001b[1;33m,\u001b[0m \u001b[0mdtype\u001b[0m\u001b[1;33m=\u001b[0m\u001b[0mself\u001b[0m\u001b[1;33m.\u001b[0m\u001b[0mdtype\u001b[0m\u001b[1;33m,\u001b[0m \u001b[0morder\u001b[0m\u001b[1;33m=\u001b[0m\u001b[0morder\u001b[0m\u001b[1;33m)\u001b[0m\u001b[1;33m\u001b[0m\u001b[1;33m\u001b[0m\u001b[0m\n\u001b[0m\u001b[0;32m   1203\u001b[0m \u001b[1;33m\u001b[0m\u001b[0m\n\u001b[0;32m   1204\u001b[0m \u001b[1;33m\u001b[0m\u001b[0m\n",
            "\u001b[1;31mMemoryError\u001b[0m: Unable to allocate 190. GiB for an array with shape (159659, 159659) and data type int64"
          ]
        }
      ],
      "source": [
        "# save the data\n",
        "\n",
        "def database_comparison(df,df_altr,fun,titl):\n",
        "    if df_altr.shape[0] > 0:\n",
        "        dat = pd.DataFrame({'shape' : [fun(df['line']), fun(df_altr['line'])],'name' : ['main df','alternative df']})\n",
        "        fig = px.pie(dat, values='shape', names='name',title = titl)\n",
        "        fig.update_traces(hoverinfo='label+percent', textinfo='value')\n",
        "        return fig\n",
        "    else:\n",
        "        return fun(df)\n",
        "\n",
        "def save_pickle(obj,file_name):\n",
        "    import pickle\n",
        "    with open(file_name, 'wb') as handle:\n",
        "                pickle.dump(obj, handle, protocol=pickle.HIGHEST_PROTOCOL)\n",
        "            \n",
        "def save_function(df : pd.DataFrame,df_altr : pd.DataFrame,dirc:str):\n",
        "    df = df[df['line'].notnull()]\n",
        "    df['line'] = df['line'].astype('str')\n",
        "    \n",
        "    #len_word\n",
        "    temp = len_word(df['line'])\n",
        "    save_pickle(temp,'len words.pickle')\n",
        "    #Zipf_law\n",
        "    temp = Zipf_law(df['line'])\n",
        "    save_pickle(temp,'Zipf law.pickle')\n",
        "    #number lines\n",
        "    temp = number_lines(df['line'])\n",
        "    save_pickle(temp,'number lines.pickle')\n",
        "    #Character distribution\n",
        "    temp = char_freq(df['line'],True)\n",
        "    save_pickle(temp,'Character distribution.pickle')\n",
        "    #ngram\n",
        "    for x in range(1,6):\n",
        "        temp = ngram(df['line'],x)\n",
        "        save_pickle(temp,'ngram ' + str(x) + '.pickle')\n",
        "    #top 5 words and another stat\n",
        "    temp = ngram(df['line'],1)\n",
        "    save_pickle(temp,'another stat.pickle')\n",
        "    #identity duplicate line\n",
        "    temp = identity_duplicate_line(df['line'])\n",
        "    save_pickle(temp,'identity duplicate line.pickle')\n",
        "    #topic model\n",
        "    temp = topic_model(df['line'])\n",
        "    save_pickle(temp,'topic model.pickle')\n",
        "    #co occurrence\n",
        "    temp = co_occurrence(df['line'],dirc)\n",
        "    save_pickle(temp,'co occurrence.pickle')\n",
        "    #number word in line\n",
        "    temp = number_word_in_line(df['line'])\n",
        "    save_pickle(temp,'number word in line.pickle')\n",
        "    #Language recognition in corpus\n",
        "    temp = detect_lang_croup(df['line'])\n",
        "    save_pickle(temp,'Language recognition in corpus.pickle')\n",
        "\n",
        "    \n",
        "def set_cd(dirc):       \n",
        "    create_folder(path_main + dirc)\n",
        "    os.chdir(path_main + dirc)\n",
        "    \n",
        "def load_database():\n",
        "#     lst = ['number lines','number unique words','Character distribution','ngram','another stat','identity duplicate line','topic model','co occurrence','number word in line','Language recognition in corpus','pos','entity']\n",
        "    n = 100\n",
        "    \n",
        "    #ben yehuda\n",
        "    print('ben yehuda')\n",
        "    df = pd.read_csv(r'C:\\corpus\\ben yehuda\\df.csv')\n",
        "    df = df.sample(n)\n",
        "    df_altr = pd.read_csv(r'C:\\corpus\\gutenberg\\df.csv')\n",
        "    df_altr = df_altr[['0']]\n",
        "    df_altr.columns = ['line']\n",
        "    set_cd(r'\\ben yehuda')\n",
        "    save_function(df,df_altr,'ben yehuda')\n",
        "    \n",
        "    ###think IL\n",
        "    print('think IL')\n",
        "    df = pd.read_csv(r'C:\\corpus\\think il\\df think IL token.tsv',sep = '\\t')\n",
        "    df = df.sample(n)\n",
        "    df = df.rename(columns={'text':'line','auther':'author'})\n",
        "    df_altr = pd.DataFrame()\n",
        "    set_cd(r'\\think IL')\n",
        "    save_function(df,df_altr,'think IL')\n",
        "    \n",
        "\n",
        "    #paraShoot\n",
        "    print('paraShoot')\n",
        "    df = pd.read_csv('C:\\corpus\\ParaShoot\\df.csv',sep = '\\t')\n",
        "    df = df.rename(columns = {'question':'line'})\n",
        "    df = df.sample(n)\n",
        "    df_altr = pd.DataFrame()\n",
        "    set_cd(r'\\paraShoot')\n",
        "    save_function(df,df_altr,'paraShoot')\n",
        "    \n",
        "    #Hebrew-Sentiment\n",
        "    print('Hebrew-Sentiment')\n",
        "    df = pd.read_csv('C:\\corpus\\Hebrew-Sentiment-Data\\dev.tsv',sep = '\\t')\n",
        "    df = df.rename(columns = {'comment':'line'})\n",
        "    df = df.sample(n)\n",
        "    df_altr = pd.DataFrame()\n",
        "    set_cd(r'\\Hebrew-Sentiment')\n",
        "    save_function(df,df_altr,'Hebrew-Sentiment')\n",
        "    \n",
        "    #HeBERT Emotion Recognition        \n",
        "    print('HeBERT')\n",
        "    df = pd.read_csv(r'C:\\corpus\\HeBERT Emotion Recognition\\test_insample_tagged_raw_to_publish.csv')\n",
        "    df = df.rename(columns = {'talkbacks':'line'})\n",
        "    df = df.sample(n)\n",
        "    df_altr = pd.DataFrame()\n",
        "    set_cd(r'\\HeBERT Emotion Recognition')\n",
        "    save_function(df,df_altr,'HeBERT Emotion Recognition')\n",
        "\n",
        "    #wikipedia\n",
        "    print('wikipedia')\n",
        "    df = pd.read_csv(r'C:\\corpus\\subset wiki\\ he df.csv',sep = '\\t')\n",
        "    df = df.rename(columns = {'content':'line'})\n",
        "    df = df.head(n)\n",
        "    df_altr = pd.read_csv(r'C:\\corpus\\subset wiki\\ en df.csv',sep = '\\t')\n",
        "    df_altr = df_altr.rename(columns = {'content':'line'})\n",
        "    set_cd(r'\\wikipedia')\n",
        "    save_function(df,df_altr,'wikipedia')\n",
        "    \n",
        "    #mila\n",
        "    global file\n",
        "    for root, dirs, files in os.walk(r'C:\\corpus\\mila'):\n",
        "        for file in files:\n",
        "            if file.endswith('.csv'):\n",
        "                print(file)\n",
        "                df = pd.read_csv('C:\\\\corpus\\\\mila\\\\'+ file,sep = '\\t')\n",
        "                df = df.rename(columns = {'text':'line'})\n",
        "                set_cd('\\\\' + file.split('.')[0])\n",
        "#                 df = df.sample(n)\n",
        "                if (file == 'HaKnesset (mila).csv') or (file == 'Tapuz People Forum (mila).csv'):\n",
        "                    df = df.sample(5)\n",
        "#                     df['line'] = df['line'].sample(10)#.str.split().str[:500].str.join(' ')\n",
        "                df_altr = pd.DataFrame()\n",
        "                save_function(df,df_altr,file.split('.')[0])\n",
        "load_database()"
      ]
    },
    {
      "cell_type": "markdown",
      "metadata": {
        "extensions": {
          "jupyter_dashboards": {
            "version": 1,
            "views": {
              "default_view": {
                "col": 0,
                "height": 3,
                "row": 18,
                "width": 10
              }
            }
          }
        },
        "id": "9wSdS22li7Ot"
      },
      "source": [
        "# Dataset information"
      ]
    },
    {
      "cell_type": "code",
      "execution_count": null,
      "metadata": {
        "extensions": {
          "jupyter_dashboards": {
            "version": 1,
            "views": {
              "default_view": {
                "col": 0,
                "height": 2,
                "row": 14,
                "width": 12
              }
            }
          }
        },
        "scrolled": false,
        "id": "VRQxLpa5i7Ot"
      },
      "outputs": [],
      "source": [
        "# from plotly.subplots import make_subplots\n",
        "\n",
        "# def load_pickle(dirc:str,file: str):\n",
        "#     a = path_main + '\\\\' + dirc +'\\\\' +  file\n",
        "#     with open(a, 'rb') as handle:\n",
        "#         return pickle.load(handle)\n",
        "\n",
        "\n",
        "# def info_dataset(dirc,word_co,ngram):\n",
        "#     if (dirc == 'Select'):\n",
        "#         pass\n",
        "#     else:\n",
        "#         titles = ('','Language recognition in corpus','ngram','co occurrence','entity all','entity text','entity person','Character distribution','pos','topic','Zipf law')\n",
        "#         fig = make_subplots(\n",
        "#             rows=6, cols=3,\n",
        "#             specs=[[{\"type\":\"table\",\"colspan\":3,\"rowspan\":1},None,None],\n",
        "#                   [{\"type\": \"pie\"},{\"type\": \"bar\"},{\"type\": \"bar\"}],\n",
        "#                   [{\"type\": \"bar\"},{\"type\": \"bar\"},{\"type\": \"bar\"}],\n",
        "#                   [{\"type\": \"bar\",\"rowspan\":2},{\"type\": \"bar\",'rowspan':2},{\"type\": \"table\",'rowspan':2}],\n",
        "#                   [None,None,None],\n",
        "#                   [{\"type\": \"Scatter\",\"colspan\":2},None,None]],\n",
        "#             subplot_titles = titles\n",
        "#                 )\n",
        "\n",
        "#         #stat\n",
        "#         stat = load_pickle(dirc,'another stat.pickle')\n",
        "#         stat.pop('top unqiue words',None)\n",
        "# #         stat.pop('tail unique words',None)\n",
        "#         stat['Average len words'] = load_pickle(dirc,'len words.pickle')\n",
        "#         stat['number lines'] = load_pickle(dirc,'number lines.pickle')\n",
        "#         stat['Percent appeared once'] = np.round(stat['Percent appeared once'],2)\n",
        "#         stat['type-token ratio'] = np.round(stat['type-token ratio'],2)\n",
        "#         stat['Average len words'] = np.round(stat['Average len words'],2)\n",
        "#         stat['gini'] = np.round(stat['gini'],2)\n",
        "        \n",
        "#         #rename\n",
        "#         stat['Number Unique Words'] = stat.pop('shape unique words')\n",
        "#         stat['Number Appeares Once'] = stat.pop('shape appeared once')\n",
        "#         stat['Percent Appeared Once'] = stat.pop('Percent appeared once')\n",
        "#         stat['Number Of Words'] = stat.pop('Number Of Words')\n",
        "#         stat['Type-Token Ratio'] = stat.pop('type-token ratio')\n",
        "#         stat['Gini'] = stat.pop('gini')\n",
        "#         stat['Average len words'] = stat.pop('Average len words')\n",
        "#         stat['Number Lines'] = stat.pop('number lines')\n",
        "        \n",
        "\n",
        "        \n",
        "#         stat_plot = go.Table(header=dict(values=list(stat.keys())),\n",
        "#                          cells=dict(values=list(stat.values())))\n",
        "#         fig.add_trace(stat_plot,row=1, col=1)\n",
        "\n",
        "#         #Language recognition in corpus\n",
        "#         temp = load_pickle(dirc,'Language recognition in corpus.pickle')\n",
        "#         plot = go.Pie(labels=temp['index'], values=temp['line'])\n",
        "#         fig.add_trace(plot,row=2, col=1)\n",
        "\n",
        "#         #ngram\n",
        "#         a = path_main + '\\\\' + dirc + '\\\\ngram ' + str(ngram) + '.pickle'\n",
        "#         with open(a, 'rb') as handle:\n",
        "#             temp = pickle.load(handle)['top unqiue words'].sort_values('frequency')\n",
        "#             ngram_plot = go.Bar(y=temp['word'],\n",
        "#                     x=temp['frequency'],\n",
        "#                         orientation='h')\n",
        "#         fig.add_trace(ngram_plot,row=2, col=2)\n",
        "\n",
        "#         #co occurrence\n",
        "#         df = load_pickle(dirc,'co occurrence.pickle')\n",
        "#         df = df[word_co].nlargest(10).to_frame().reset_index()\n",
        "#         df.columns = ['number','word']\n",
        "#         df = df.sort_values('word')\n",
        "#         co_plot = go.Bar(x=df['word'],\n",
        "#                                      y=df['number'],\n",
        "#                                     orientation='h')\n",
        "#         fig.add_trace(co_plot,row=2, col=3)\n",
        "\n",
        "#         #entity\n",
        "#         temp = load_pickle(dirc,'entity.pickle')\n",
        "#         temp = temp[temp['label'] != '']\n",
        "#         entity_all = temp['label'].value_counts().reset_index()\n",
        "#         entity_all.columns = ['lable','index']\n",
        "#         entity_all = entity_all.sort_values('index')\n",
        "#         fig.add_trace(go.Bar(y=entity_all['lable'],\n",
        "#                                          x=entity_all['index'],\n",
        "#                                         orientation='h'),\n",
        "#                                   row=3, col=1)\n",
        "\n",
        "\n",
        "#         entity_text = temp['text'].value_counts().reset_index().head(10)\n",
        "#         entity_text = entity_text.sort_values('text')\n",
        "#         fig.add_trace(go.Bar(y=entity_text['index'],\n",
        "#                                          x=entity_text['text'],\n",
        "#                                         orientation='h'),\n",
        "#                                   row=3, col=2)\n",
        "\n",
        "\n",
        "#         entity_pers = temp[temp['label'] == 'PERS']['text'].value_counts().reset_index().head(10)\n",
        "#         entity_pers = entity_pers.sort_values('text')\n",
        "#         entity_pers = go.Bar(y=entity_pers['index'],\n",
        "#                     x=entity_pers['text'],\n",
        "#                     orientation='h')\n",
        "\n",
        "#         fig.add_trace(entity_pers,row=3, col=3)\n",
        "\n",
        "\n",
        "#         #Character distribution\n",
        "#         chr_freq = load_pickle(dirc,'Character distribution.pickle')\n",
        "#         chr_freq = pd.DataFrame(chr_freq.items(),columns = ['char','freq'])\n",
        "#         chr_freq = go.Bar(y=chr_freq['char'],x=chr_freq['freq'],orientation='h')\n",
        "#         fig.add_trace(chr_freq,row=4, col=1)\n",
        "\n",
        "#         #pos\n",
        "#         pos_plot = load_pickle(dirc,'pos.pickle').sort_values('sum')\n",
        "#         pos_plot = go.Bar(y=pos_plot['pos'],x=pos_plot['sum'],orientation='h')\n",
        "#         fig.add_trace(pos_plot,row=4, col=2)\n",
        "\n",
        "#         #topic\n",
        "#         temp = load_pickle(dirc,'topic model.pickle')\n",
        "#         temp = go.Table(header=dict(values=['Topic 1','Topic 2','Topic 3','Topic 4']),\n",
        "#                          cells=dict(values=temp))\n",
        "#         fig.add_trace(temp,row=4, col=3)\n",
        "\n",
        "#         #Zipf law\n",
        "#         temp = load_pickle(dirc,'Zipf law.pickle').head(20)\n",
        "#         fig.add_trace(go.Scatter(\n",
        "#                                 x = temp['rank'],\n",
        "#                                 y = temp['freq'],\n",
        "#                                 name = 'freq',\n",
        "#                                 text = temp['words']),\n",
        "#                      row=6, col=1)\n",
        "    \n",
        "#         fig.add_trace(go.Scatter(\n",
        "#                                 x = temp['rank'],\n",
        "#                                 y = temp['Zipf'],\n",
        "#                                 name = 'Zipf Law'),\n",
        "#                      row=6, col=1)\n",
        "        \n",
        "#         fig.update_layout(height=1200,width = 900, showlegend=False)\n",
        "#         fig.show()\n",
        "\n",
        "\n",
        "\n",
        "        \n",
        "# def set_plotType(_):\n",
        "#     \"\"\"\n",
        "#     change the lable on button co_widget base on change in data (data_widget)\n",
        "#     \"\"\"\n",
        "#     if data_widget.value == 'Select':\n",
        "#         pass\n",
        "#     else:\n",
        "#         dirc = data_widget.value\n",
        "#         lst_co = load_pickle(dirc,'ngram 1.pickle')['top unqiue words']['word'].head().to_list()\n",
        "#         co_widget.options = lst_co\n",
        "# #         info_dataset(dirc,lst_co[0],1)\n",
        "        \n",
        "# #data\n",
        "# lst_data = ['Select','ben yehuda','think IL','paraShoot','Hebrew-Sentiment','HeBERT Emotion Recognition','wikipedia'\n",
        "#             ,'Arutz 7 df','Doctors df','Foodpage Corpus df','haaretz df','HaKnesset df','Hebrew Dotted Text df','Infomed df','Learning Man df','Nature of Healing df','Spoken Israeli Hebrew df','Sport5 Corpus df','Tapuz People Forum df','TheMarker df','To Be Healthy df','Walla Food Corpus df']\n",
        "# data_widget = widgets.Dropdown(options = lst_data,description='Chose data',value = 'Select')\n",
        "\n",
        "# #ngram\n",
        "# ngram_slider = widgets.IntSlider(min=1,max=5,step=1,value=1)\n",
        "\n",
        "# # co-occurrence\n",
        "# co_widget = widgets.Dropdown(\n",
        "#         options=['Select'],\n",
        "#         description='select word'\n",
        "#     )\n",
        "\n",
        "# data_widget.observe(set_plotType)\n",
        "\n",
        "\n",
        "# # def helppp(_):\n",
        "# #     info_dataset(data_widget.value,co_widget.value, ngram_slider.value)\n",
        "# # ngram_slider.observe(helppp)\n",
        "\n",
        "# # interact(info_dataset,dirc = data_widget, word_co = co_widget, ngram = ngram_slider)\n",
        "\n",
        "# temp = widgets.interactive(info_dataset,dirc = data_widget, word_co = co_widget, ngram = ngram_slider)\n",
        "# display(temp)\n",
        "# # def a(dirc):\n",
        "# #     info_dataset(dirc,co_widget.value,ngram_slider.value)\n",
        "# # def b(word_co):\n",
        "# #     info_dataset(data_widget.value,word_co,ngram_slider.value)\n",
        "# # def c(ngram):\n",
        "# #     info_dataset(data_widget.value,co_widget.value,ngram)\n",
        "# # a = widgets.interactive(a,dirc = data_widget)\n",
        "# # b = widgets.interactive(b,word_co = co_widget)\n",
        "# # c = widgets.interactive(c,ngram = ngram_slider)\n",
        "\n",
        "\n",
        "\n",
        "# # grid = widgets.GridspecLayout(1,3)\n",
        "# # grid[0, 0] = a\n",
        "# # grid[0, 1] = b\n",
        "# # grid[0, 2] = c\n",
        "# # # grid[1, 2] = info_dataset\n",
        "\n",
        "# # display(grid)\n",
        "\n"
      ]
    },
    {
      "cell_type": "code",
      "execution_count": null,
      "metadata": {
        "scrolled": false,
        "id": "fXVmf6iBi7Ov"
      },
      "outputs": [],
      "source": [
        "# from plotly.subplots import make_subplots\n",
        "\n",
        "# def load_pickle(dirc:str,file: str):\n",
        "#     a = path_main + '\\\\' + dirc +'\\\\' +  file\n",
        "#     with open(a, 'rb') as handle:\n",
        "#         return pickle.load(handle)\n",
        "\n",
        "\n",
        "\n",
        "# dirc,ngram = 'ben yehuda',1\n",
        "# word_co = load_pickle(dirc,'ngram 1.pickle')['top unqiue words']['word'].head().to_list()[0]\n",
        "\n",
        "# #stat\n",
        "# stat = load_pickle(dirc,'another stat.pickle')\n",
        "# stat.pop('top unqiue words',None)\n",
        "# #         stat.pop('tail unique words',None)\n",
        "# stat['Average len words'] = load_pickle(dirc,'len words.pickle')\n",
        "# stat['number lines'] = load_pickle(dirc,'number lines.pickle')\n",
        "# stat['Percent appeared once'] = np.round(stat['Percent appeared once'],2)\n",
        "# stat['type-token ratio'] = np.round(stat['type-token ratio'],2)\n",
        "# stat['Average len words'] = np.round(stat['Average len words'],2)\n",
        "# stat['gini'] = np.round(stat['gini'],2)\n",
        "\n",
        "# #rename\n",
        "# stat['Number Unique Words'] = stat.pop('shape unique words')\n",
        "# stat['Number Appeares Once'] = stat.pop('shape appeared once')\n",
        "# stat['Percent Appeared Once'] = stat.pop('Percent appeared once')\n",
        "# stat['Number Of Words'] = stat.pop('Number Of Words')\n",
        "# stat['Type-Token Ratio'] = stat.pop('type-token ratio')\n",
        "# stat['Gini'] = stat.pop('gini')\n",
        "# stat['Average len words'] = stat.pop('Average len words')\n",
        "# stat['Number Lines'] = stat.pop('number lines') \n",
        "# stat_plot = go.Table(header=dict(values=list(stat.keys())),\n",
        "#                  cells=dict(values=list(stat.values())))\n",
        "# stat_plot = go.FigureWidget(stat_plot)\n",
        "# stat_plot.layout.height = 270\n",
        "# stat_plot.layout.title.text = 'Info Card'\n",
        "# stat_plot.layout.title.x = 0.5\n",
        "# stat_plot.layout.title.y = 0.85\n",
        "\n",
        "# #Language recognition in corpus\n",
        "# temp = load_pickle(dirc,'Language recognition in corpus.pickle')\n",
        "# lang_plot = go.Pie(labels=temp['index'], values=temp['line'])\n",
        "# lang_plot = go.FigureWidget(lang_plot)\n",
        "# lang_plot.layout.title.text = 'Languages'\n",
        "# lang_plot.layout.title.x = 0.5\n",
        "# lang_plot.layout.title.y = 0.85\n",
        "\n",
        "# #co occurrence\n",
        "# df = load_pickle(dirc,'co occurrence.pickle')\n",
        "# word_co = list(df.keys())[0]\n",
        "# df = df[word_co]\n",
        "# co_plot = go.Bar(x=df['word'],\n",
        "#                              y=df['number'],\n",
        "#                             orientation='h')\n",
        "# co_plot = go.FigureWidget(co_plot)       \n",
        "# co_plot.layout.title.text = 'Co Occurrence'\n",
        "# co_plot.layout.title.x = 0.5\n",
        "# co_plot.layout.title.y = 0.85\n",
        "\n",
        "# # #entity\n",
        "# # temp = load_pickle(dirc,'entity.pickle')\n",
        "# # temp = temp[temp['label'] != '']\n",
        "# # entity_all = temp['label'].value_counts().reset_index()\n",
        "# # entity_all.columns = ['lable','index']\n",
        "# # entity_all = entity_all.sort_values('index')\n",
        "# # entity_all_plt = go.Bar(y=entity_all['lable'],\n",
        "# #                                  x=entity_all['index'],\n",
        "# #                                 orientation='h')\n",
        "# # entity_all_plt = go.FigureWidget(entity_all_plt)        \n",
        "\n",
        "\n",
        "# # entity_text = temp['text'].value_counts().reset_index().head(10)\n",
        "# # entity_text = entity_text.sort_values('text')\n",
        "# # entity_text_plt = go.Bar(y=entity_text['index'],\n",
        "# #                                  x=entity_text['text'],\n",
        "# #                                 orientation='h')\n",
        "# # entity_text_plt = go.FigureWidget(entity_text_plt)        \n",
        "\n",
        "# # entity_pers = temp[temp['label'] == 'PERS']['text'].value_counts().reset_index().head(10)\n",
        "# # entity_pers = entity_pers.sort_values('text')\n",
        "# # entity_pers_plt = go.Bar(y=entity_pers['index'],\n",
        "# #             x=entity_pers['text'],\n",
        "# #             orientation='h')\n",
        "# # entity_pers_plt = go.FigureWidget(entity_pers_plt)        \n",
        "\n",
        "# #Character distribution\n",
        "# chr_freq = load_pickle(dirc,'Character distribution.pickle')\n",
        "# chr_freq = pd.DataFrame(chr_freq.items(),columns = ['char','freq'])\n",
        "# chr_freq_plt = go.Bar(y=chr_freq['char'],x=chr_freq['freq'],orientation='h')\n",
        "# chr_freq_plt = go.FigureWidget(chr_freq_plt)\n",
        "# chr_freq_plt.layout.title.text = 'Character Distribution'\n",
        "# chr_freq_plt.layout.title.x = 0.5\n",
        "# chr_freq_plt.layout.title.y = 0.85\n",
        "\n",
        "# # #pos\n",
        "# # pos_plot = load_pickle(dirc,'pos.pickle').sort_values('sum')\n",
        "# # pos_plot_plt = go.Bar(y=pos_plot['pos'],x=pos_plot['sum'],orientation='h')\n",
        "# # pos_plot_plt = go.FigureWidget(pos_plot_plt)        \n",
        "\n",
        "\n",
        "# #Zipf law\n",
        "# temp = load_pickle(dirc,'Zipf law.pickle').head(20)\n",
        "# Zipf_plt = go.Figure()\n",
        "# Zipf_plt.add_trace(go.Scatter(\n",
        "#                         x = temp['rank'],\n",
        "#                         y = temp['freq'],\n",
        "#                         name = 'freq',\n",
        "#                         text = temp['words']),\n",
        "# )\n",
        "\n",
        "# Zipf_plt.add_trace(go.Scatter(\n",
        "#                         x = temp['rank'],\n",
        "#                         y = temp['Zipf'],\n",
        "#                         name = 'Zipf Law'),\n",
        "# )\n",
        "# Zipf_plt = go.FigureWidget(Zipf_plt)    \n",
        "# Zipf_plt.layout.title.text = 'Zipf Law'\n",
        "# Zipf_plt.layout.title.x = 0.5\n",
        "# Zipf_plt.layout.title.y = 0.85\n",
        "\n",
        "# #topic\n",
        "# temp = load_pickle(dirc,'topic model.pickle')\n",
        "# topic_plt = go.Table(header=dict(values=['Topic 1','Topic 2','Topic 3','Topic 4']),\n",
        "#                  cells=dict(values=temp))\n",
        "# topic_plt = go.FigureWidget(topic_plt) \n",
        "# topic_plt.layout.title.text = 'Topics'\n",
        "# topic_plt.layout.title.x = 0.5\n",
        "# topic_plt.layout.title.y = 0.85\n",
        "\n",
        "\n",
        "# #ngram\n",
        "# a = path_main + '\\\\' + dirc + '\\\\ngram ' + str(ngram) + '.pickle'\n",
        "# with open(a, 'rb') as handle:\n",
        "#     temp = pickle.load(handle)['top unqiue words'].sort_values('frequency')\n",
        "#     ngram_plot = go.Bar(y=temp['word'],\n",
        "#             x=temp['frequency'],\n",
        "#                 orientation='h')\n",
        "# ngram_plot = go.FigureWidget(ngram_plot)    \n",
        "# ngram_plot.layout.title.text = 'ngram'\n",
        "# ngram_plot.layout.title.x = 0.5\n",
        "# ngram_plot.layout.title.y = 0.85\n",
        "\n",
        "\n",
        "# def set_plotType(_):\n",
        "#     \"\"\"\n",
        "#     change the lable on button co_widget base on change in data (data_widget)\n",
        "#     \"\"\"\n",
        "#     if data_widget.value == 'Select':\n",
        "#         pass\n",
        "#     else:\n",
        "#         df = load_pickle(dirc,'co occurrence.pickle')\n",
        "#         word_co = list(df.keys())\n",
        "# #         dirc = data_widget.value\n",
        "# #         lst_co = load_pickle(dirc,'ngram 1.pickle')['top unqiue words']['word'].head().to_list()\n",
        "#         co_widget.options = word_co\n",
        "        \n",
        "# #data\n",
        "# lst_data = ['ben yehuda','think IL','paraShoot','Hebrew-Sentiment','HeBERT Emotion Recognition','wikipedia'\n",
        "#             ,'Arutz 7 (mila)','Doctors (mila)','Foodpage Corpus (mila)','haaretz (mila)','HaKnesset (mila)','Hebrew Dotted Text (mila)','Infomed (mila)','Learning Man (mila)','Nature of Healing (mila)','Spoken Israeli Hebrew (mila)','Sport5 Corpus (mila)','Tapuz People Forum (mila)','TheMarker (mila)','To Be Healthy (mila)','Walla Food Corpus (mila)']\n",
        "# data_widget = widgets.Dropdown(\n",
        "#     options = lst_data,\n",
        "#     description='Chose data',\n",
        "#     value = 'think IL'\n",
        "# )\n",
        "\n",
        "# #ngram\n",
        "# ngram_slider = widgets.IntSlider(\n",
        "#     description = 'n-gram',\n",
        "#     min=1,\n",
        "#     max=5,\n",
        "#     step=1,\n",
        "#     value=1\n",
        "# )\n",
        "\n",
        "# # co-occurrence\n",
        "# word_list = load_pickle(dirc,'ngram 1.pickle')['top unqiue words']['word'].head().to_list()\n",
        "# co_widget = widgets.Dropdown(\n",
        "#     options=word_list,\n",
        "#     description='select word'\n",
        "#     )\n",
        "\n",
        "# # data_widget.observe(set_plotType)\n",
        "\n",
        "\n",
        "# fig = go.FigureWidget()\n",
        "\n",
        "# def response_data(change):\n",
        "#     dirc = data_widget.value\n",
        "#     ngram_int = ngram_slider.value\n",
        "#     word_co = co_widget.value\n",
        "    \n",
        "#     df_jfjf = load_pickle(dirc,'co occurrence.pickle')\n",
        "#     co_widget.options = list(df_jfjf.keys())\n",
        "#     response_ngram(' ')\n",
        "#     if word_co == 'Select':\n",
        "#         pass\n",
        "#     else:\n",
        "#         with fig.batch_update():\n",
        "\n",
        "#             stat = load_pickle(dirc,'another stat.pickle')\n",
        "#             stat.pop('top unqiue words',None)\n",
        "#             stat['Average len words'] = load_pickle(dirc,'len words.pickle')\n",
        "#             stat['number lines'] = load_pickle(dirc,'number lines.pickle')\n",
        "#             stat['Percent appeared once'] = np.round(stat['Percent appeared once'],2)\n",
        "#             stat['type-token ratio'] = np.round(stat['type-token ratio'],2)\n",
        "#             stat['Average len words'] = np.round(stat['Average len words'],2)\n",
        "#             stat['gini'] = np.round(stat['gini'],2)\n",
        "            \n",
        "#             #rename\n",
        "#             stat['Number Unique Words'] = stat.pop('shape unique words')\n",
        "#             stat['Number Appeares Once'] = stat.pop('shape appeared once')\n",
        "#             stat['Percent Appeared Once'] = stat.pop('Percent appeared once')\n",
        "#             stat['Number Of Words'] = stat.pop('Number Of Words')\n",
        "#             stat['Type-Token Ratio'] = stat.pop('type-token ratio')\n",
        "#             stat['Gini'] = stat.pop('gini')\n",
        "#             stat['Average len words'] = stat.pop('Average len words')\n",
        "#             stat['Number Lines'] = stat.pop('number lines') \n",
        "            \n",
        "#             stat_plot.data[0].cells.values = list(stat.values())\n",
        "            \n",
        "#             #Language recognition in corpus\n",
        "#             temp = load_pickle(dirc,'Language recognition in corpus.pickle')\n",
        "#             lang_plot.data[0].labels = temp['index']\n",
        "#             lang_plot.data[0].values = temp['line']\n",
        "\n",
        "# #             #entity\n",
        "# #             temp = load_pickle(dirc,'entity.pickle')\n",
        "# #             temp = temp[temp['label'] != '']\n",
        "# #             entity_all = temp['label'].value_counts().reset_index()\n",
        "# #             entity_all.columns = ['lable','index']\n",
        "# #             entity_all = entity_all.sort_values('index')\n",
        "# #             entity_all_plt.data[0].x = entity_all['index']\n",
        "# #             entity_all_plt.data[0].y = entity_all['lable']\n",
        "     \n",
        "\n",
        "# #             entity_text = temp['text'].value_counts().reset_index().head(10)\n",
        "# #             entity_text = entity_text.sort_values('text')\n",
        "# #             entity_text_plt.data[0].x = entity_text['text']\n",
        "# #             entity_text_plt.data[0].y = entity_text['index']\n",
        "\n",
        "# #             entity_pers = temp[temp['label'] == 'PERS']['text'].value_counts().reset_index().head(10)\n",
        "# #             entity_pers = entity_pers.sort_values('text')\n",
        "# #             entity_pers_plt.data[0].x = entity_pers['text']\n",
        "# #             entity_pers_plt.data[0].y = entity_pers['index']   \n",
        "            \n",
        "#             #Character distribution\n",
        "#             chr_freq = load_pickle(dirc,'Character distribution.pickle')\n",
        "#             chr_freq = pd.DataFrame(chr_freq.items(),columns = ['char','freq'])\n",
        "#             chr_freq_plt.data[0].x = chr_freq['freq']\n",
        "#             chr_freq_plt.data[0].y = chr_freq['char']\n",
        "\n",
        "        \n",
        "# #             #pos\n",
        "# #             pos_plot = load_pickle(dirc,'pos.pickle').sort_values('sum')\n",
        "# #             pos_plot_plt.data[0].x = pos_plot['sum']\n",
        "# #             pos_plot_plt.data[0].y = pos_plot['pos']\n",
        "            \n",
        "#             #topic model\n",
        "#             temp = load_pickle(dirc,'topic model.pickle')\n",
        "#             topic_plt.data[0].cells = dict(values=temp)\n",
        "            \n",
        "#             #Zipf law\n",
        "#             temp = load_pickle(dirc,'Zipf law.pickle').head(20)\n",
        "#             Zipf_plt.data[0].x = temp['rank']\n",
        "#             Zipf_plt.data[0].y = temp['freq']\n",
        "#             Zipf_plt.data[0].text = temp['words']\n",
        "\n",
        "# def response_ngram(change):\n",
        "#     dirc = data_widget.value\n",
        "#     ngram_int = ngram_slider.value\n",
        "#     word_co = co_widget.value\n",
        "#     with fig.batch_update():\n",
        "#         #ngram\n",
        "#             a = path_main + '\\\\' + dirc + '\\\\ngram ' + str(ngram_int) + '.pickle'\n",
        "#             with open(a, 'rb') as handle:\n",
        "#                 temp = pickle.load(handle)['top unqiue words'].sort_values('frequency')\n",
        "#                 ngram_plot.data[0].x = temp['frequency']\n",
        "#                 ngram_plot.data[0].y = temp['word']\n",
        "                \n",
        "# def response_co(change):\n",
        "#     # co-occurrence\n",
        "#     dirc = data_widget.value\n",
        "#     ngram_int = ngram_slider.value\n",
        "#     word_co = co_widget.value\n",
        "#     with fig.batch_update():\n",
        "#             df = load_pickle(dirc,'co occurrence.pickle')\n",
        "#             df = df[word_co]\n",
        "#             co_plot.data[0].x = df['word']\n",
        "#             co_plot.data[0].y = df['number']\n",
        "                \n",
        "# ngram_slider.observe(response_ngram, names=\"value\")\n",
        "# co_widget.observe(response_co, names=\"value\")\n",
        "# data_widget.observe(response_data, names=\"value\")\n",
        "\n",
        "\n",
        "# plots_1 = widgets.HBox([lang_plot,ngram_plot,co_plot])\n",
        "# # plots_2 = widgets.HBox([entity_all_plt,entity_text_plt,entity_pers_plt])\n",
        "# plots_3 = widgets.HBox([chr_freq_plt,topic_plt]) #pos_plot_plt\n",
        "# plots_4 = widgets.HBox([Zipf_plt])\n",
        "\n",
        "\n",
        "# container  = widgets.HBox([data_widget,ngram_slider,co_widget])\n",
        "\n",
        "# widgets.VBox([stat_plot,\n",
        "#               container,\n",
        "#               plots_1,\n",
        "# #               plots_2,\n",
        "#               plots_3,\n",
        "#               plots_4\n",
        "# ])\n",
        "\n",
        "\n",
        "\n",
        "\n"
      ]
    },
    {
      "cell_type": "code",
      "execution_count": null,
      "metadata": {
        "scrolled": false,
        "id": "lT-TF2tOi7Oy",
        "outputId": "5e33ae7c-65b6-433f-ff5c-04dac690df02",
        "colab": {
          "referenced_widgets": [
            "9d6c195be73f4b07b2a2c0920137bb6e"
          ]
        }
      },
      "outputs": [
        {
          "data": {
            "application/vnd.jupyter.widget-view+json": {
              "model_id": "9d6c195be73f4b07b2a2c0920137bb6e",
              "version_major": 2,
              "version_minor": 0
            },
            "text/plain": [
              "VBox(children=(FigureWidget({\n",
              "    'data': [{'cells': {'fill': {'color': [lightgrey, white, white, white, white…"
            ]
          },
          "metadata": {},
          "output_type": "display_data"
        }
      ],
      "source": [
        "from plotly.subplots import make_subplots\n",
        "\n",
        "def load_pickle(dirc:str,file: str):\n",
        "    a = path_main + '\\\\' + dirc +'\\\\' +  file\n",
        "    with open(a, 'rb') as handle:\n",
        "        return pickle.load(handle)\n",
        "\n",
        "\n",
        "dirc1,ngram = 'ben yehuda',1\n",
        "dirc2 = 'haaretz (mila)'\n",
        "word_co = load_pickle(dirc1,'ngram 1.pickle')['top unqiue words']['word'].head().to_list()[0]\n",
        "word_co2 = load_pickle(dirc2,'ngram 1.pickle')['top unqiue words']['word'].head().to_list()[0]\n",
        "\n",
        "#Character distribution\n",
        "chr_freq = load_pickle(dirc1,'Character distribution.pickle')\n",
        "chr_freq = pd.DataFrame(chr_freq.items(),columns = ['char','freq'])\n",
        "chr_freq['freq'] = chr_freq['freq']/chr_freq['freq'].sum()\n",
        "chr_freq_plt = go.Bar(y=chr_freq['char'],x=chr_freq['freq'],orientation='h')\n",
        "\n",
        "chr_freq2 = load_pickle(dirc2,'Character distribution.pickle')\n",
        "chr_freq2 = pd.DataFrame(chr_freq2.items(),columns = ['char','freq'])\n",
        "chr_freq2['freq'] = chr_freq2['freq']/chr_freq2['freq'].sum()\n",
        "chr_freq_plt2 = go.Bar(y=chr_freq2['char'],x=chr_freq2['freq'],orientation='h')\n",
        "\n",
        "chr_freq_plt = go.Figure(data=[chr_freq_plt,chr_freq_plt2])\n",
        "chr_freq_plt = go.FigureWidget(chr_freq_plt)\n",
        "chr_freq_plt.layout.title.text = 'Character Distribution'\n",
        "chr_freq_plt.layout.title.x = 0.5\n",
        "chr_freq_plt.layout.title.y = 0.85\n",
        "\n",
        "#ngram\n",
        "#main\n",
        "a = path_main + '\\\\' + dirc1 + '\\\\ngram ' + str(ngram) + '.pickle'\n",
        "with open(a, 'rb') as handle:\n",
        "    temp1 = pickle.load(handle)['top unqiue words'].sort_values('frequency')\n",
        "    temp1['frequency'] = temp1['frequency']/temp1['frequency'].sum()\n",
        "    temp1 = temp1.sort_values('frequency',ascending = False).head(10).sort_values('frequency')\n",
        "    ngram_plot1 = go.Bar(name = dirc1,\n",
        "            y=temp1['word'],\n",
        "            x=temp1['frequency'],\n",
        "                orientation='h')\n",
        "#secondary\n",
        "a = path_main + '\\\\' + dirc2 + '\\\\ngram ' + str(ngram) + '.pickle'\n",
        "with open(a, 'rb') as handle:\n",
        "    temp2 = pickle.load(handle)['top unqiue words'].sort_values('frequency')\n",
        "    temp2['frequency'] = temp2['frequency']/temp2['frequency'].sum()\n",
        "    temp2 = temp2[temp2['word'].isin(temp1['word'])]\n",
        "    ngram_plot2 = go.Bar(name = dirc2,\n",
        "            y=temp2['word'],\n",
        "            x=temp2['frequency'],\n",
        "                orientation='h')        \n",
        "        \n",
        "\n",
        "ngram_plot = go.Figure(data=[ngram_plot1,ngram_plot2])\n",
        "ngram_plot = go.FigureWidget(ngram_plot)\n",
        "ngram_plot.layout.title.text = 'ngram'\n",
        "ngram_plot.layout.title.x = 0.5\n",
        "ngram_plot.layout.title.y = 0.85\n",
        "\n",
        "#stat\n",
        "def stat_fun(dirc):\n",
        "    stat = load_pickle(dirc,'another stat.pickle')\n",
        "    stat.pop('top unqiue words',None)\n",
        "    #         stat.pop('tail unique words',None)\n",
        "    stat['Average len words'] = load_pickle(dirc,'len words.pickle')\n",
        "    stat['number lines'] = load_pickle(dirc,'number lines.pickle')\n",
        "    stat['Percent appeared once'] = np.round(stat['Percent appeared once'],2)\n",
        "    stat['type-token ratio'] = np.round(stat['type-token ratio'],2)\n",
        "    stat['Average len words'] = np.round(stat['Average len words'],2)\n",
        "    stat['gini'] = np.round(stat['gini'],2)\n",
        "\n",
        "    #rename\n",
        "    stat['Number Unique Words'] = stat.pop('shape unique words')\n",
        "    stat['Number Appeares Once'] = stat.pop('shape appeared once')\n",
        "    stat['Percent Appeared Once'] = stat.pop('Percent appeared once')\n",
        "    stat['Number Of Words'] = stat.pop('Number Of Words')\n",
        "    stat['Type-Token Ratio'] = stat.pop('type-token ratio')\n",
        "    stat['Gini'] = stat.pop('gini')\n",
        "    stat['Average len words'] = stat.pop('Average len words')\n",
        "    stat['Number Lines'] = stat.pop('number lines')\n",
        "    return stat\n",
        "stat = stat_fun(dirc1)\n",
        "stat2 = stat_fun(dirc2)\n",
        "lists_of_lists = [list(stat.values()),list(stat2.values())]\n",
        "cells_stat = [x for x in zip(*lists_of_lists)]\n",
        "cells_stat.insert(0,(dirc1,dirc2))\n",
        "header_stat = list(stat.keys())\n",
        "header_stat.insert(0,'DataSet')\n",
        "stat_plot = go.Table(columnwidth = [100] + [60]*8,\n",
        "                     header=dict(values=header_stat),\n",
        "                 cells=dict(\n",
        "                     values=cells_stat,\n",
        "                    fill=dict(color=['lightgrey'] + ['white']*8\n",
        "                             )))\n",
        "stat_plot = go.FigureWidget(stat_plot)\n",
        "stat_plot.layout.height = 350\n",
        "stat_plot.layout.title.text = 'Info Card'\n",
        "stat_plot.layout.title.x = 0.5\n",
        "stat_plot.layout.title.y = 0.85\n",
        "\n",
        "#Language recognition in corpus\n",
        "temp = load_pickle(dirc1,'Language recognition in corpus.pickle')\n",
        "lang_plot = go.Pie(labels=temp['index'], values=temp['line'])\n",
        "lang_plot = go.FigureWidget(lang_plot)\n",
        "lang_plot.layout.title.text = 'Languages'\n",
        "lang_plot.layout.title.x = 0.5\n",
        "lang_plot.layout.title.y = 0.85\n",
        "\n",
        "#co occurrence\n",
        "df = load_pickle(dirc1,'co occurrence.pickle')\n",
        "word_co = list(df.keys())[0]\n",
        "df = df[word_co]\n",
        "co_plot = go.Bar(x=df['word'],\n",
        "                             y=df['number'],\n",
        "                            orientation='h')\n",
        "co_plot = go.FigureWidget(co_plot)       \n",
        "co_plot.layout.title.text = 'Co Occurrence'\n",
        "co_plot.layout.title.x = 0.5\n",
        "co_plot.layout.title.y = 0.85\n",
        "\n",
        "\n",
        "#Zipf law\n",
        "Zipf_plt = go.Figure()\n",
        "#main\n",
        "temp = load_pickle(dirc1,'Zipf law.pickle').head(20)\n",
        "Zipf_plt.add_trace(go.Scatter(\n",
        "                        x = temp['rank'],\n",
        "                        y = temp['freq'],\n",
        "                        name = 'freq ' + dirc1,\n",
        "                        text = temp['words']),\n",
        ")\n",
        "#secondary\n",
        "temp = load_pickle(dirc2,'Zipf law.pickle').head(20)\n",
        "Zipf_plt.add_trace(go.Scatter(\n",
        "                        x = temp['rank'],\n",
        "                        y = temp['freq'],\n",
        "                        name = 'freq ' + dirc2,\n",
        "                        text = temp['words']),\n",
        ")\n",
        "\n",
        "Zipf_plt.add_trace(go.Scatter(\n",
        "                        x = temp['rank'],\n",
        "                        y = temp['Zipf'],\n",
        "                        name = 'Zipf Law'),\n",
        ")\n",
        "Zipf_plt = go.FigureWidget(Zipf_plt)    \n",
        "Zipf_plt.layout.title.text = 'Zipf Law'\n",
        "Zipf_plt.layout.title.x = 0.5\n",
        "Zipf_plt.layout.title.y = 0.85\n",
        "\n",
        "#topic\n",
        "temp = load_pickle(dirc1,'topic model.pickle')\n",
        "topic_plt = go.Table(header=dict(values=['Topic 1','Topic 2','Topic 3','Topic 4']),\n",
        "                 cells=dict(values=temp))\n",
        "topic_plt = go.FigureWidget(topic_plt) \n",
        "topic_plt.layout.title.text = 'Topics'\n",
        "topic_plt.layout.title.x = 0.5\n",
        "topic_plt.layout.title.y = 0.85\n",
        "\n",
        "\n",
        "\n",
        "\n",
        "\n",
        "def set_plotType(_):\n",
        "    \"\"\"\n",
        "    change the lable on button co_widget base on change in data (data_widget)\n",
        "    \"\"\"\n",
        "    if data_widget.value == 'Select':\n",
        "        pass\n",
        "    else:\n",
        "        df = load_pickle(dirc,'co occurrence.pickle')\n",
        "        word_co = list(df.keys())\n",
        "#         dirc = data_widget.value\n",
        "#         lst_co = load_pickle(dirc,'ngram 1.pickle')['top unqiue words']['word'].head().to_list()\n",
        "        co_widget.options = word_co\n",
        "        \n",
        "#data\n",
        "lst_data = ['ben yehuda','think IL','paraShoot','Hebrew-Sentiment','HeBERT Emotion Recognition','wikipedia'\n",
        "            ,'Arutz 7 (mila)','Doctors (mila)','Foodpage Corpus (mila)','haaretz (mila)','HaKnesset (mila)',\n",
        "            'Hebrew Dotted Text (mila)','Infomed (mila)','Learning Man (mila)','Nature of Healing (mila)',\n",
        "            'Spoken Israeli Hebrew (mila)','Sport5 Corpus (mila)','Tapuz People Forum (mila)','TheMarker (mila)',\n",
        "            'To Be Healthy (mila)','Walla Food Corpus (mila)']\n",
        "data_widget = widgets.Dropdown(\n",
        "    options = lst_data,\n",
        "    description='main dataset',\n",
        "    value = 'think IL'\n",
        ")\n",
        "\n",
        "data_widget2 = widgets.Dropdown(\n",
        "    options = lst_data,\n",
        "    description='secondary dataset',\n",
        "    value = 'think IL'\n",
        ")\n",
        "\n",
        "#ngram\n",
        "ngram_slider = widgets.IntSlider(\n",
        "    description = 'n-gram',\n",
        "    min=1,\n",
        "    max=5,\n",
        "    step=1,\n",
        "    value=1\n",
        ")\n",
        "#stop words\n",
        "stop_words_box = widgets.Checkbox(False, description='stop words')\n",
        "\n",
        "# co-occurrence\n",
        "word_list = load_pickle(dirc1,'ngram 1.pickle')['top unqiue words']['word'].head().to_list()\n",
        "co_widget = widgets.Dropdown(\n",
        "    options=word_list,\n",
        "    description='select word'\n",
        "    )\n",
        "\n",
        "# data_widget.observe(set_plotType)\n",
        "\n",
        "\n",
        "fig = go.FigureWidget()\n",
        "\n",
        "def response_data(plt_number,change):\n",
        "    dirc1 = data_widget.value\n",
        "    dirc2 = data_widget2.value\n",
        "    ngram_int = ngram_slider.value\n",
        "    word_co = co_widget.value\n",
        "    \n",
        "    co_widget_lst = load_pickle(dirc1,'co occurrence.pickle')\n",
        "    co_widget.options = list(co_widget_lst.keys())\n",
        "    response_ngram(' ')\n",
        "    if word_co == 'Select':\n",
        "        pass\n",
        "    else:\n",
        "        with fig.batch_update():\n",
        "            stat1 = stat_fun(dirc1)\n",
        "            stat2 = stat_fun(dirc2)\n",
        "            lists_of_lists = [list(stat1.values()),list(stat2.values())]\n",
        "            cells_stat = [x for x in zip(*lists_of_lists)]\n",
        "            cells_stat.insert(0,(dirc1,dirc2))\n",
        "\n",
        "            stat_plot.data[0].cells.values = list(cells_stat)\n",
        "            \n",
        "            #Language recognition in corpus\n",
        "            temp = load_pickle(dirc1,'Language recognition in corpus.pickle')\n",
        "            lang_plot.data[0].labels = temp['index']\n",
        "            lang_plot.data[0].values = temp['line']\n",
        "            \n",
        "            #Character distribution\n",
        "            #main\n",
        "            chr_freq1 = load_pickle(dirc1,'Character distribution.pickle')\n",
        "            chr_freq1 = pd.DataFrame(chr_freq1.items(),columns = ['char','freq'])\n",
        "            chr_freq1['freq'] = chr_freq1['freq']/chr_freq1['freq'].sum()\n",
        "            chr_freq_plt.data[0].x = chr_freq1['freq']\n",
        "            chr_freq_plt.data[0].y = chr_freq1['char']\n",
        "\n",
        "            \n",
        "            #secondary\n",
        "            chr_freq2 = load_pickle(dirc2,'Character distribution.pickle')\n",
        "            chr_freq2 = pd.DataFrame(chr_freq2.items(),columns = ['char','freq'])\n",
        "            chr_freq2['freq'] = chr_freq2['freq']/chr_freq2['freq'].sum()\n",
        "            chr_freq_plt.data[0].x = chr_freq2['freq']\n",
        "            chr_freq_plt.data[0].y = chr_freq2['char']\n",
        "            \n",
        "            #topic model\n",
        "            temp = load_pickle(dirc1,'topic model.pickle')\n",
        "            topic_plt.data[0].cells = dict(values=temp)\n",
        "            \n",
        "            #Zipf law\n",
        "            #main\n",
        "            temp = load_pickle(dirc1,'Zipf law.pickle').head(20)\n",
        "            Zipf_plt.data[0].x = temp['rank']\n",
        "            Zipf_plt.data[0].y = temp['freq']\n",
        "            Zipf_plt.data[0].text = temp['words']\n",
        "            \n",
        "            #secondary\n",
        "            temp = load_pickle(dirc2,'Zipf law.pickle').head(20)\n",
        "            Zipf_plt.data[1].x = temp['rank']\n",
        "            Zipf_plt.data[1].y = temp['freq']\n",
        "            Zipf_plt.data[1].text = temp['words']\n",
        "        \n",
        "\n",
        "def response_ngram(change):\n",
        "    dirc1 = data_widget.value\n",
        "    dirc2 = data_widget2.value\n",
        "    ngram_int = ngram_slider.value\n",
        "    word_co = co_widget.value\n",
        "    with fig.batch_update():\n",
        "        #ngram\n",
        "        #main\n",
        "        a = path_main + '\\\\' + dirc1 + '\\\\ngram ' + str(ngram_int) + '.pickle'\n",
        "        with open(a, 'rb') as handle:\n",
        "            temp1 = pickle.load(handle)['top unqiue words'].sort_values('frequency')\n",
        "            temp1['frequency'] = temp1['frequency']/temp1['frequency'].sum()\n",
        "            temp1 = temp1.sort_values('frequency',ascending = False).head(10).sort_values('frequency')   \n",
        "            ngram_plot.data[0].x = temp1['frequency']\n",
        "            ngram_plot.data[0].y = temp1['word']\n",
        "            ngram_plot.data[0].name = dirc1\n",
        "        \n",
        "        #secondary\n",
        "        a = path_main + '\\\\' + dirc2 + '\\\\ngram ' + str(ngram_int) + '.pickle'\n",
        "        with open(a, 'rb') as handle:\n",
        "            temp2 = pickle.load(handle)['top unqiue words'].sort_values('frequency')\n",
        "            temp2['frequency'] = temp2['frequency']/temp2['frequency'].sum()\n",
        "            temp2 = temp2[temp2['word'].isin(temp1['word'])]\n",
        "            ngram_plot.data[1].x = temp2['frequency']\n",
        "            ngram_plot.data[1].y = temp2['word']  \n",
        "            ngram_plot.data[1].name = dirc2\n",
        "                \n",
        "def response_co(change):\n",
        "    # co-occurrence\n",
        "    dirc = data_widget.value\n",
        "    ngram_int = ngram_slider.value\n",
        "    word_co = co_widget.value\n",
        "    with fig.batch_update():\n",
        "            df = load_pickle(dirc,'co occurrence.pickle')\n",
        "            df = df[word_co]\n",
        "            co_plot.data[0].x = df['word']\n",
        "            co_plot.data[0].y = df['number']\n",
        "                \n",
        "                \n",
        "def response_data1(change):\n",
        "    response_data(0,change)\n",
        "        \n",
        "def response_data2(change):\n",
        "    response_data(1,change)\n",
        "        \n",
        "        \n",
        "ngram_slider.observe(response_ngram, names=\"value\")\n",
        "co_widget.observe(response_co, names=\"value\")\n",
        "data_widget.observe(response_data1, names=\"value\")\n",
        "data_widget2.observe(response_data2, names=\"value\")\n",
        "\n",
        "plots_1 = widgets.HBox([lang_plot,ngram_plot,co_plot])\n",
        "# plots_2 = widgets.HBox([entity_all_plt,entity_text_plt,entity_pers_plt])\n",
        "plots_3 = widgets.HBox([chr_freq_plt,topic_plt]) #pos_plot_plt\n",
        "plots_4 = widgets.HBox([Zipf_plt])\n",
        "\n",
        "\n",
        "container1 = widgets.HBox([data_widget,data_widget2,stop_words_box])\n",
        "container2 = widgets.HBox([ngram_slider,co_widget])\n",
        "container = widgets.VBox([container1,container2])\n",
        "widgets.VBox([stat_plot,\n",
        "              container,\n",
        "              plots_1,\n",
        "#               plots_2,\n",
        "              plots_3,\n",
        "              plots_4\n",
        "])\n",
        "\n",
        "\n",
        "\n",
        "\n",
        "\n"
      ]
    },
    {
      "cell_type": "code",
      "execution_count": null,
      "metadata": {
        "id": "ha-kHfSSi7O0",
        "outputId": "3343c724-e4fc-4196-bfa0-fedd8de01010"
      },
      "outputs": [
        {
          "data": {
            "application/vnd.plotly.v1+json": {
              "config": {
                "plotlyServerURL": "https://plot.ly"
              },
              "data": [
                {
                  "cells": {
                    "fill": {
                      "color": [
                        "lightgrey",
                        "white",
                        "white",
                        "white",
                        "white",
                        "white",
                        "white",
                        "white",
                        "white"
                      ]
                    },
                    "values": [
                      [
                        "ben yehuda",
                        "haaretz (mila)"
                      ],
                      [
                        40289,
                        3433
                      ],
                      [
                        23882,
                        2548
                      ],
                      [
                        0.59,
                        0.74
                      ],
                      [
                        197614,
                        6336
                      ],
                      [
                        0.2,
                        0.54
                      ],
                      [
                        0.72,
                        0.41
                      ],
                      [
                        4.57,
                        4.2
                      ],
                      [
                        100,
                        11
                      ]
                    ]
                  },
                  "columnwidth": [
                    100,
                    60,
                    60,
                    60,
                    60,
                    60,
                    60,
                    60,
                    60
                  ],
                  "header": {
                    "values": [
                      "DataSet",
                      "Number Unique Words",
                      "Number Appeares Once",
                      "Percent Appeared Once",
                      "Number Of Words",
                      "Type-Token Ratio",
                      "Gini",
                      "Average len words",
                      "Number Lines"
                    ]
                  },
                  "type": "table",
                  "uid": "0a33f361-9d6f-4a9c-9987-b4c0d156c550"
                }
              ],
              "layout": {
                "height": 350,
                "template": {
                  "data": {
                    "bar": [
                      {
                        "error_x": {
                          "color": "#2a3f5f"
                        },
                        "error_y": {
                          "color": "#2a3f5f"
                        },
                        "marker": {
                          "line": {
                            "color": "#E5ECF6",
                            "width": 0.5
                          },
                          "pattern": {
                            "fillmode": "overlay",
                            "size": 10,
                            "solidity": 0.2
                          }
                        },
                        "type": "bar"
                      }
                    ],
                    "barpolar": [
                      {
                        "marker": {
                          "line": {
                            "color": "#E5ECF6",
                            "width": 0.5
                          },
                          "pattern": {
                            "fillmode": "overlay",
                            "size": 10,
                            "solidity": 0.2
                          }
                        },
                        "type": "barpolar"
                      }
                    ],
                    "carpet": [
                      {
                        "aaxis": {
                          "endlinecolor": "#2a3f5f",
                          "gridcolor": "white",
                          "linecolor": "white",
                          "minorgridcolor": "white",
                          "startlinecolor": "#2a3f5f"
                        },
                        "baxis": {
                          "endlinecolor": "#2a3f5f",
                          "gridcolor": "white",
                          "linecolor": "white",
                          "minorgridcolor": "white",
                          "startlinecolor": "#2a3f5f"
                        },
                        "type": "carpet"
                      }
                    ],
                    "choropleth": [
                      {
                        "colorbar": {
                          "outlinewidth": 0,
                          "ticks": ""
                        },
                        "type": "choropleth"
                      }
                    ],
                    "contour": [
                      {
                        "colorbar": {
                          "outlinewidth": 0,
                          "ticks": ""
                        },
                        "colorscale": [
                          [
                            0,
                            "#0d0887"
                          ],
                          [
                            0.1111111111111111,
                            "#46039f"
                          ],
                          [
                            0.2222222222222222,
                            "#7201a8"
                          ],
                          [
                            0.3333333333333333,
                            "#9c179e"
                          ],
                          [
                            0.4444444444444444,
                            "#bd3786"
                          ],
                          [
                            0.5555555555555556,
                            "#d8576b"
                          ],
                          [
                            0.6666666666666666,
                            "#ed7953"
                          ],
                          [
                            0.7777777777777778,
                            "#fb9f3a"
                          ],
                          [
                            0.8888888888888888,
                            "#fdca26"
                          ],
                          [
                            1,
                            "#f0f921"
                          ]
                        ],
                        "type": "contour"
                      }
                    ],
                    "contourcarpet": [
                      {
                        "colorbar": {
                          "outlinewidth": 0,
                          "ticks": ""
                        },
                        "type": "contourcarpet"
                      }
                    ],
                    "heatmap": [
                      {
                        "colorbar": {
                          "outlinewidth": 0,
                          "ticks": ""
                        },
                        "colorscale": [
                          [
                            0,
                            "#0d0887"
                          ],
                          [
                            0.1111111111111111,
                            "#46039f"
                          ],
                          [
                            0.2222222222222222,
                            "#7201a8"
                          ],
                          [
                            0.3333333333333333,
                            "#9c179e"
                          ],
                          [
                            0.4444444444444444,
                            "#bd3786"
                          ],
                          [
                            0.5555555555555556,
                            "#d8576b"
                          ],
                          [
                            0.6666666666666666,
                            "#ed7953"
                          ],
                          [
                            0.7777777777777778,
                            "#fb9f3a"
                          ],
                          [
                            0.8888888888888888,
                            "#fdca26"
                          ],
                          [
                            1,
                            "#f0f921"
                          ]
                        ],
                        "type": "heatmap"
                      }
                    ],
                    "heatmapgl": [
                      {
                        "colorbar": {
                          "outlinewidth": 0,
                          "ticks": ""
                        },
                        "colorscale": [
                          [
                            0,
                            "#0d0887"
                          ],
                          [
                            0.1111111111111111,
                            "#46039f"
                          ],
                          [
                            0.2222222222222222,
                            "#7201a8"
                          ],
                          [
                            0.3333333333333333,
                            "#9c179e"
                          ],
                          [
                            0.4444444444444444,
                            "#bd3786"
                          ],
                          [
                            0.5555555555555556,
                            "#d8576b"
                          ],
                          [
                            0.6666666666666666,
                            "#ed7953"
                          ],
                          [
                            0.7777777777777778,
                            "#fb9f3a"
                          ],
                          [
                            0.8888888888888888,
                            "#fdca26"
                          ],
                          [
                            1,
                            "#f0f921"
                          ]
                        ],
                        "type": "heatmapgl"
                      }
                    ],
                    "histogram": [
                      {
                        "marker": {
                          "pattern": {
                            "fillmode": "overlay",
                            "size": 10,
                            "solidity": 0.2
                          }
                        },
                        "type": "histogram"
                      }
                    ],
                    "histogram2d": [
                      {
                        "colorbar": {
                          "outlinewidth": 0,
                          "ticks": ""
                        },
                        "colorscale": [
                          [
                            0,
                            "#0d0887"
                          ],
                          [
                            0.1111111111111111,
                            "#46039f"
                          ],
                          [
                            0.2222222222222222,
                            "#7201a8"
                          ],
                          [
                            0.3333333333333333,
                            "#9c179e"
                          ],
                          [
                            0.4444444444444444,
                            "#bd3786"
                          ],
                          [
                            0.5555555555555556,
                            "#d8576b"
                          ],
                          [
                            0.6666666666666666,
                            "#ed7953"
                          ],
                          [
                            0.7777777777777778,
                            "#fb9f3a"
                          ],
                          [
                            0.8888888888888888,
                            "#fdca26"
                          ],
                          [
                            1,
                            "#f0f921"
                          ]
                        ],
                        "type": "histogram2d"
                      }
                    ],
                    "histogram2dcontour": [
                      {
                        "colorbar": {
                          "outlinewidth": 0,
                          "ticks": ""
                        },
                        "colorscale": [
                          [
                            0,
                            "#0d0887"
                          ],
                          [
                            0.1111111111111111,
                            "#46039f"
                          ],
                          [
                            0.2222222222222222,
                            "#7201a8"
                          ],
                          [
                            0.3333333333333333,
                            "#9c179e"
                          ],
                          [
                            0.4444444444444444,
                            "#bd3786"
                          ],
                          [
                            0.5555555555555556,
                            "#d8576b"
                          ],
                          [
                            0.6666666666666666,
                            "#ed7953"
                          ],
                          [
                            0.7777777777777778,
                            "#fb9f3a"
                          ],
                          [
                            0.8888888888888888,
                            "#fdca26"
                          ],
                          [
                            1,
                            "#f0f921"
                          ]
                        ],
                        "type": "histogram2dcontour"
                      }
                    ],
                    "mesh3d": [
                      {
                        "colorbar": {
                          "outlinewidth": 0,
                          "ticks": ""
                        },
                        "type": "mesh3d"
                      }
                    ],
                    "parcoords": [
                      {
                        "line": {
                          "colorbar": {
                            "outlinewidth": 0,
                            "ticks": ""
                          }
                        },
                        "type": "parcoords"
                      }
                    ],
                    "pie": [
                      {
                        "automargin": true,
                        "type": "pie"
                      }
                    ],
                    "scatter": [
                      {
                        "fillpattern": {
                          "fillmode": "overlay",
                          "size": 10,
                          "solidity": 0.2
                        },
                        "type": "scatter"
                      }
                    ],
                    "scatter3d": [
                      {
                        "line": {
                          "colorbar": {
                            "outlinewidth": 0,
                            "ticks": ""
                          }
                        },
                        "marker": {
                          "colorbar": {
                            "outlinewidth": 0,
                            "ticks": ""
                          }
                        },
                        "type": "scatter3d"
                      }
                    ],
                    "scattercarpet": [
                      {
                        "marker": {
                          "colorbar": {
                            "outlinewidth": 0,
                            "ticks": ""
                          }
                        },
                        "type": "scattercarpet"
                      }
                    ],
                    "scattergeo": [
                      {
                        "marker": {
                          "colorbar": {
                            "outlinewidth": 0,
                            "ticks": ""
                          }
                        },
                        "type": "scattergeo"
                      }
                    ],
                    "scattergl": [
                      {
                        "marker": {
                          "colorbar": {
                            "outlinewidth": 0,
                            "ticks": ""
                          }
                        },
                        "type": "scattergl"
                      }
                    ],
                    "scattermapbox": [
                      {
                        "marker": {
                          "colorbar": {
                            "outlinewidth": 0,
                            "ticks": ""
                          }
                        },
                        "type": "scattermapbox"
                      }
                    ],
                    "scatterpolar": [
                      {
                        "marker": {
                          "colorbar": {
                            "outlinewidth": 0,
                            "ticks": ""
                          }
                        },
                        "type": "scatterpolar"
                      }
                    ],
                    "scatterpolargl": [
                      {
                        "marker": {
                          "colorbar": {
                            "outlinewidth": 0,
                            "ticks": ""
                          }
                        },
                        "type": "scatterpolargl"
                      }
                    ],
                    "scatterternary": [
                      {
                        "marker": {
                          "colorbar": {
                            "outlinewidth": 0,
                            "ticks": ""
                          }
                        },
                        "type": "scatterternary"
                      }
                    ],
                    "surface": [
                      {
                        "colorbar": {
                          "outlinewidth": 0,
                          "ticks": ""
                        },
                        "colorscale": [
                          [
                            0,
                            "#0d0887"
                          ],
                          [
                            0.1111111111111111,
                            "#46039f"
                          ],
                          [
                            0.2222222222222222,
                            "#7201a8"
                          ],
                          [
                            0.3333333333333333,
                            "#9c179e"
                          ],
                          [
                            0.4444444444444444,
                            "#bd3786"
                          ],
                          [
                            0.5555555555555556,
                            "#d8576b"
                          ],
                          [
                            0.6666666666666666,
                            "#ed7953"
                          ],
                          [
                            0.7777777777777778,
                            "#fb9f3a"
                          ],
                          [
                            0.8888888888888888,
                            "#fdca26"
                          ],
                          [
                            1,
                            "#f0f921"
                          ]
                        ],
                        "type": "surface"
                      }
                    ],
                    "table": [
                      {
                        "cells": {
                          "fill": {
                            "color": "#EBF0F8"
                          },
                          "line": {
                            "color": "white"
                          }
                        },
                        "header": {
                          "fill": {
                            "color": "#C8D4E3"
                          },
                          "line": {
                            "color": "white"
                          }
                        },
                        "type": "table"
                      }
                    ]
                  },
                  "layout": {
                    "annotationdefaults": {
                      "arrowcolor": "#2a3f5f",
                      "arrowhead": 0,
                      "arrowwidth": 1
                    },
                    "autotypenumbers": "strict",
                    "coloraxis": {
                      "colorbar": {
                        "outlinewidth": 0,
                        "ticks": ""
                      }
                    },
                    "colorscale": {
                      "diverging": [
                        [
                          0,
                          "#8e0152"
                        ],
                        [
                          0.1,
                          "#c51b7d"
                        ],
                        [
                          0.2,
                          "#de77ae"
                        ],
                        [
                          0.3,
                          "#f1b6da"
                        ],
                        [
                          0.4,
                          "#fde0ef"
                        ],
                        [
                          0.5,
                          "#f7f7f7"
                        ],
                        [
                          0.6,
                          "#e6f5d0"
                        ],
                        [
                          0.7,
                          "#b8e186"
                        ],
                        [
                          0.8,
                          "#7fbc41"
                        ],
                        [
                          0.9,
                          "#4d9221"
                        ],
                        [
                          1,
                          "#276419"
                        ]
                      ],
                      "sequential": [
                        [
                          0,
                          "#0d0887"
                        ],
                        [
                          0.1111111111111111,
                          "#46039f"
                        ],
                        [
                          0.2222222222222222,
                          "#7201a8"
                        ],
                        [
                          0.3333333333333333,
                          "#9c179e"
                        ],
                        [
                          0.4444444444444444,
                          "#bd3786"
                        ],
                        [
                          0.5555555555555556,
                          "#d8576b"
                        ],
                        [
                          0.6666666666666666,
                          "#ed7953"
                        ],
                        [
                          0.7777777777777778,
                          "#fb9f3a"
                        ],
                        [
                          0.8888888888888888,
                          "#fdca26"
                        ],
                        [
                          1,
                          "#f0f921"
                        ]
                      ],
                      "sequentialminus": [
                        [
                          0,
                          "#0d0887"
                        ],
                        [
                          0.1111111111111111,
                          "#46039f"
                        ],
                        [
                          0.2222222222222222,
                          "#7201a8"
                        ],
                        [
                          0.3333333333333333,
                          "#9c179e"
                        ],
                        [
                          0.4444444444444444,
                          "#bd3786"
                        ],
                        [
                          0.5555555555555556,
                          "#d8576b"
                        ],
                        [
                          0.6666666666666666,
                          "#ed7953"
                        ],
                        [
                          0.7777777777777778,
                          "#fb9f3a"
                        ],
                        [
                          0.8888888888888888,
                          "#fdca26"
                        ],
                        [
                          1,
                          "#f0f921"
                        ]
                      ]
                    },
                    "colorway": [
                      "#636efa",
                      "#EF553B",
                      "#00cc96",
                      "#ab63fa",
                      "#FFA15A",
                      "#19d3f3",
                      "#FF6692",
                      "#B6E880",
                      "#FF97FF",
                      "#FECB52"
                    ],
                    "font": {
                      "color": "#2a3f5f"
                    },
                    "geo": {
                      "bgcolor": "white",
                      "lakecolor": "white",
                      "landcolor": "#E5ECF6",
                      "showlakes": true,
                      "showland": true,
                      "subunitcolor": "white"
                    },
                    "hoverlabel": {
                      "align": "left"
                    },
                    "hovermode": "closest",
                    "mapbox": {
                      "style": "light"
                    },
                    "paper_bgcolor": "white",
                    "plot_bgcolor": "#E5ECF6",
                    "polar": {
                      "angularaxis": {
                        "gridcolor": "white",
                        "linecolor": "white",
                        "ticks": ""
                      },
                      "bgcolor": "#E5ECF6",
                      "radialaxis": {
                        "gridcolor": "white",
                        "linecolor": "white",
                        "ticks": ""
                      }
                    },
                    "scene": {
                      "xaxis": {
                        "backgroundcolor": "#E5ECF6",
                        "gridcolor": "white",
                        "gridwidth": 2,
                        "linecolor": "white",
                        "showbackground": true,
                        "ticks": "",
                        "zerolinecolor": "white"
                      },
                      "yaxis": {
                        "backgroundcolor": "#E5ECF6",
                        "gridcolor": "white",
                        "gridwidth": 2,
                        "linecolor": "white",
                        "showbackground": true,
                        "ticks": "",
                        "zerolinecolor": "white"
                      },
                      "zaxis": {
                        "backgroundcolor": "#E5ECF6",
                        "gridcolor": "white",
                        "gridwidth": 2,
                        "linecolor": "white",
                        "showbackground": true,
                        "ticks": "",
                        "zerolinecolor": "white"
                      }
                    },
                    "shapedefaults": {
                      "line": {
                        "color": "#2a3f5f"
                      }
                    },
                    "ternary": {
                      "aaxis": {
                        "gridcolor": "white",
                        "linecolor": "white",
                        "ticks": ""
                      },
                      "baxis": {
                        "gridcolor": "white",
                        "linecolor": "white",
                        "ticks": ""
                      },
                      "bgcolor": "#E5ECF6",
                      "caxis": {
                        "gridcolor": "white",
                        "linecolor": "white",
                        "ticks": ""
                      }
                    },
                    "title": {
                      "x": 0.05
                    },
                    "xaxis": {
                      "automargin": true,
                      "gridcolor": "white",
                      "linecolor": "white",
                      "ticks": "",
                      "title": {
                        "standoff": 15
                      },
                      "zerolinecolor": "white",
                      "zerolinewidth": 2
                    },
                    "yaxis": {
                      "automargin": true,
                      "gridcolor": "white",
                      "linecolor": "white",
                      "ticks": "",
                      "title": {
                        "standoff": 15
                      },
                      "zerolinecolor": "white",
                      "zerolinewidth": 2
                    }
                  }
                },
                "title": {
                  "text": "Info Card",
                  "x": 0.5,
                  "y": 0.85
                }
              }
            },
            "text/html": [
              "<div>                            <div id=\"72bcda18-29f5-47d2-8028-83292593b2e8\" class=\"plotly-graph-div\" style=\"height:350px; width:100%;\"></div>            <script type=\"text/javascript\">                require([\"plotly\"], function(Plotly) {                    window.PLOTLYENV=window.PLOTLYENV || {};                                    if (document.getElementById(\"72bcda18-29f5-47d2-8028-83292593b2e8\")) {                    Plotly.newPlot(                        \"72bcda18-29f5-47d2-8028-83292593b2e8\",                        [{\"cells\":{\"fill\":{\"color\":[\"lightgrey\",\"white\",\"white\",\"white\",\"white\",\"white\",\"white\",\"white\",\"white\"]},\"values\":[[\"ben yehuda\",\"haaretz (mila)\"],[40289,3433],[23882,2548],[0.59,0.74],[197614,6336],[0.2,0.54],[0.72,0.41],[4.57,4.2],[100,11]]},\"columnwidth\":[100,60,60,60,60,60,60,60,60],\"header\":{\"values\":[\"DataSet\",\"Number Unique Words\",\"Number Appeares Once\",\"Percent Appeared Once\",\"Number Of Words\",\"Type-Token Ratio\",\"Gini\",\"Average len words\",\"Number Lines\"]},\"uid\":\"0a33f361-9d6f-4a9c-9987-b4c0d156c550\",\"type\":\"table\"}],                        {\"height\":350,\"template\":{\"data\":{\"barpolar\":[{\"marker\":{\"line\":{\"color\":\"#E5ECF6\",\"width\":0.5},\"pattern\":{\"fillmode\":\"overlay\",\"size\":10,\"solidity\":0.2}},\"type\":\"barpolar\"}],\"bar\":[{\"error_x\":{\"color\":\"#2a3f5f\"},\"error_y\":{\"color\":\"#2a3f5f\"},\"marker\":{\"line\":{\"color\":\"#E5ECF6\",\"width\":0.5},\"pattern\":{\"fillmode\":\"overlay\",\"size\":10,\"solidity\":0.2}},\"type\":\"bar\"}],\"carpet\":[{\"aaxis\":{\"endlinecolor\":\"#2a3f5f\",\"gridcolor\":\"white\",\"linecolor\":\"white\",\"minorgridcolor\":\"white\",\"startlinecolor\":\"#2a3f5f\"},\"baxis\":{\"endlinecolor\":\"#2a3f5f\",\"gridcolor\":\"white\",\"linecolor\":\"white\",\"minorgridcolor\":\"white\",\"startlinecolor\":\"#2a3f5f\"},\"type\":\"carpet\"}],\"choropleth\":[{\"colorbar\":{\"outlinewidth\":0,\"ticks\":\"\"},\"type\":\"choropleth\"}],\"contourcarpet\":[{\"colorbar\":{\"outlinewidth\":0,\"ticks\":\"\"},\"type\":\"contourcarpet\"}],\"contour\":[{\"colorbar\":{\"outlinewidth\":0,\"ticks\":\"\"},\"colorscale\":[[0.0,\"#0d0887\"],[0.1111111111111111,\"#46039f\"],[0.2222222222222222,\"#7201a8\"],[0.3333333333333333,\"#9c179e\"],[0.4444444444444444,\"#bd3786\"],[0.5555555555555556,\"#d8576b\"],[0.6666666666666666,\"#ed7953\"],[0.7777777777777778,\"#fb9f3a\"],[0.8888888888888888,\"#fdca26\"],[1.0,\"#f0f921\"]],\"type\":\"contour\"}],\"heatmapgl\":[{\"colorbar\":{\"outlinewidth\":0,\"ticks\":\"\"},\"colorscale\":[[0.0,\"#0d0887\"],[0.1111111111111111,\"#46039f\"],[0.2222222222222222,\"#7201a8\"],[0.3333333333333333,\"#9c179e\"],[0.4444444444444444,\"#bd3786\"],[0.5555555555555556,\"#d8576b\"],[0.6666666666666666,\"#ed7953\"],[0.7777777777777778,\"#fb9f3a\"],[0.8888888888888888,\"#fdca26\"],[1.0,\"#f0f921\"]],\"type\":\"heatmapgl\"}],\"heatmap\":[{\"colorbar\":{\"outlinewidth\":0,\"ticks\":\"\"},\"colorscale\":[[0.0,\"#0d0887\"],[0.1111111111111111,\"#46039f\"],[0.2222222222222222,\"#7201a8\"],[0.3333333333333333,\"#9c179e\"],[0.4444444444444444,\"#bd3786\"],[0.5555555555555556,\"#d8576b\"],[0.6666666666666666,\"#ed7953\"],[0.7777777777777778,\"#fb9f3a\"],[0.8888888888888888,\"#fdca26\"],[1.0,\"#f0f921\"]],\"type\":\"heatmap\"}],\"histogram2dcontour\":[{\"colorbar\":{\"outlinewidth\":0,\"ticks\":\"\"},\"colorscale\":[[0.0,\"#0d0887\"],[0.1111111111111111,\"#46039f\"],[0.2222222222222222,\"#7201a8\"],[0.3333333333333333,\"#9c179e\"],[0.4444444444444444,\"#bd3786\"],[0.5555555555555556,\"#d8576b\"],[0.6666666666666666,\"#ed7953\"],[0.7777777777777778,\"#fb9f3a\"],[0.8888888888888888,\"#fdca26\"],[1.0,\"#f0f921\"]],\"type\":\"histogram2dcontour\"}],\"histogram2d\":[{\"colorbar\":{\"outlinewidth\":0,\"ticks\":\"\"},\"colorscale\":[[0.0,\"#0d0887\"],[0.1111111111111111,\"#46039f\"],[0.2222222222222222,\"#7201a8\"],[0.3333333333333333,\"#9c179e\"],[0.4444444444444444,\"#bd3786\"],[0.5555555555555556,\"#d8576b\"],[0.6666666666666666,\"#ed7953\"],[0.7777777777777778,\"#fb9f3a\"],[0.8888888888888888,\"#fdca26\"],[1.0,\"#f0f921\"]],\"type\":\"histogram2d\"}],\"histogram\":[{\"marker\":{\"pattern\":{\"fillmode\":\"overlay\",\"size\":10,\"solidity\":0.2}},\"type\":\"histogram\"}],\"mesh3d\":[{\"colorbar\":{\"outlinewidth\":0,\"ticks\":\"\"},\"type\":\"mesh3d\"}],\"parcoords\":[{\"line\":{\"colorbar\":{\"outlinewidth\":0,\"ticks\":\"\"}},\"type\":\"parcoords\"}],\"pie\":[{\"automargin\":true,\"type\":\"pie\"}],\"scatter3d\":[{\"line\":{\"colorbar\":{\"outlinewidth\":0,\"ticks\":\"\"}},\"marker\":{\"colorbar\":{\"outlinewidth\":0,\"ticks\":\"\"}},\"type\":\"scatter3d\"}],\"scattercarpet\":[{\"marker\":{\"colorbar\":{\"outlinewidth\":0,\"ticks\":\"\"}},\"type\":\"scattercarpet\"}],\"scattergeo\":[{\"marker\":{\"colorbar\":{\"outlinewidth\":0,\"ticks\":\"\"}},\"type\":\"scattergeo\"}],\"scattergl\":[{\"marker\":{\"colorbar\":{\"outlinewidth\":0,\"ticks\":\"\"}},\"type\":\"scattergl\"}],\"scattermapbox\":[{\"marker\":{\"colorbar\":{\"outlinewidth\":0,\"ticks\":\"\"}},\"type\":\"scattermapbox\"}],\"scatterpolargl\":[{\"marker\":{\"colorbar\":{\"outlinewidth\":0,\"ticks\":\"\"}},\"type\":\"scatterpolargl\"}],\"scatterpolar\":[{\"marker\":{\"colorbar\":{\"outlinewidth\":0,\"ticks\":\"\"}},\"type\":\"scatterpolar\"}],\"scatter\":[{\"fillpattern\":{\"fillmode\":\"overlay\",\"size\":10,\"solidity\":0.2},\"type\":\"scatter\"}],\"scatterternary\":[{\"marker\":{\"colorbar\":{\"outlinewidth\":0,\"ticks\":\"\"}},\"type\":\"scatterternary\"}],\"surface\":[{\"colorbar\":{\"outlinewidth\":0,\"ticks\":\"\"},\"colorscale\":[[0.0,\"#0d0887\"],[0.1111111111111111,\"#46039f\"],[0.2222222222222222,\"#7201a8\"],[0.3333333333333333,\"#9c179e\"],[0.4444444444444444,\"#bd3786\"],[0.5555555555555556,\"#d8576b\"],[0.6666666666666666,\"#ed7953\"],[0.7777777777777778,\"#fb9f3a\"],[0.8888888888888888,\"#fdca26\"],[1.0,\"#f0f921\"]],\"type\":\"surface\"}],\"table\":[{\"cells\":{\"fill\":{\"color\":\"#EBF0F8\"},\"line\":{\"color\":\"white\"}},\"header\":{\"fill\":{\"color\":\"#C8D4E3\"},\"line\":{\"color\":\"white\"}},\"type\":\"table\"}]},\"layout\":{\"annotationdefaults\":{\"arrowcolor\":\"#2a3f5f\",\"arrowhead\":0,\"arrowwidth\":1},\"autotypenumbers\":\"strict\",\"coloraxis\":{\"colorbar\":{\"outlinewidth\":0,\"ticks\":\"\"}},\"colorscale\":{\"diverging\":[[0,\"#8e0152\"],[0.1,\"#c51b7d\"],[0.2,\"#de77ae\"],[0.3,\"#f1b6da\"],[0.4,\"#fde0ef\"],[0.5,\"#f7f7f7\"],[0.6,\"#e6f5d0\"],[0.7,\"#b8e186\"],[0.8,\"#7fbc41\"],[0.9,\"#4d9221\"],[1,\"#276419\"]],\"sequential\":[[0.0,\"#0d0887\"],[0.1111111111111111,\"#46039f\"],[0.2222222222222222,\"#7201a8\"],[0.3333333333333333,\"#9c179e\"],[0.4444444444444444,\"#bd3786\"],[0.5555555555555556,\"#d8576b\"],[0.6666666666666666,\"#ed7953\"],[0.7777777777777778,\"#fb9f3a\"],[0.8888888888888888,\"#fdca26\"],[1.0,\"#f0f921\"]],\"sequentialminus\":[[0.0,\"#0d0887\"],[0.1111111111111111,\"#46039f\"],[0.2222222222222222,\"#7201a8\"],[0.3333333333333333,\"#9c179e\"],[0.4444444444444444,\"#bd3786\"],[0.5555555555555556,\"#d8576b\"],[0.6666666666666666,\"#ed7953\"],[0.7777777777777778,\"#fb9f3a\"],[0.8888888888888888,\"#fdca26\"],[1.0,\"#f0f921\"]]},\"colorway\":[\"#636efa\",\"#EF553B\",\"#00cc96\",\"#ab63fa\",\"#FFA15A\",\"#19d3f3\",\"#FF6692\",\"#B6E880\",\"#FF97FF\",\"#FECB52\"],\"font\":{\"color\":\"#2a3f5f\"},\"geo\":{\"bgcolor\":\"white\",\"lakecolor\":\"white\",\"landcolor\":\"#E5ECF6\",\"showlakes\":true,\"showland\":true,\"subunitcolor\":\"white\"},\"hoverlabel\":{\"align\":\"left\"},\"hovermode\":\"closest\",\"mapbox\":{\"style\":\"light\"},\"paper_bgcolor\":\"white\",\"plot_bgcolor\":\"#E5ECF6\",\"polar\":{\"angularaxis\":{\"gridcolor\":\"white\",\"linecolor\":\"white\",\"ticks\":\"\"},\"bgcolor\":\"#E5ECF6\",\"radialaxis\":{\"gridcolor\":\"white\",\"linecolor\":\"white\",\"ticks\":\"\"}},\"scene\":{\"xaxis\":{\"backgroundcolor\":\"#E5ECF6\",\"gridcolor\":\"white\",\"gridwidth\":2,\"linecolor\":\"white\",\"showbackground\":true,\"ticks\":\"\",\"zerolinecolor\":\"white\"},\"yaxis\":{\"backgroundcolor\":\"#E5ECF6\",\"gridcolor\":\"white\",\"gridwidth\":2,\"linecolor\":\"white\",\"showbackground\":true,\"ticks\":\"\",\"zerolinecolor\":\"white\"},\"zaxis\":{\"backgroundcolor\":\"#E5ECF6\",\"gridcolor\":\"white\",\"gridwidth\":2,\"linecolor\":\"white\",\"showbackground\":true,\"ticks\":\"\",\"zerolinecolor\":\"white\"}},\"shapedefaults\":{\"line\":{\"color\":\"#2a3f5f\"}},\"ternary\":{\"aaxis\":{\"gridcolor\":\"white\",\"linecolor\":\"white\",\"ticks\":\"\"},\"baxis\":{\"gridcolor\":\"white\",\"linecolor\":\"white\",\"ticks\":\"\"},\"bgcolor\":\"#E5ECF6\",\"caxis\":{\"gridcolor\":\"white\",\"linecolor\":\"white\",\"ticks\":\"\"}},\"title\":{\"x\":0.05},\"xaxis\":{\"automargin\":true,\"gridcolor\":\"white\",\"linecolor\":\"white\",\"ticks\":\"\",\"title\":{\"standoff\":15},\"zerolinecolor\":\"white\",\"zerolinewidth\":2},\"yaxis\":{\"automargin\":true,\"gridcolor\":\"white\",\"linecolor\":\"white\",\"ticks\":\"\",\"title\":{\"standoff\":15},\"zerolinecolor\":\"white\",\"zerolinewidth\":2}}},\"title\":{\"text\":\"Info Card\",\"x\":0.5,\"y\":0.85}},                        {\"responsive\": true}                    ).then(function(){\n",
              "                            \n",
              "var gd = document.getElementById('72bcda18-29f5-47d2-8028-83292593b2e8');\n",
              "var x = new MutationObserver(function (mutations, observer) {{\n",
              "        var display = window.getComputedStyle(gd).display;\n",
              "        if (!display || display === 'none') {{\n",
              "            console.log([gd, 'removed!']);\n",
              "            Plotly.purge(gd);\n",
              "            observer.disconnect();\n",
              "        }}\n",
              "}});\n",
              "\n",
              "// Listen for the removal of the full notebook cells\n",
              "var notebookContainer = gd.closest('#notebook-container');\n",
              "if (notebookContainer) {{\n",
              "    x.observe(notebookContainer, {childList: true});\n",
              "}}\n",
              "\n",
              "// Listen for the clearing of the current output cell\n",
              "var outputEl = gd.closest('.output');\n",
              "if (outputEl) {{\n",
              "    x.observe(outputEl, {childList: true});\n",
              "}}\n",
              "\n",
              "                        })                };                });            </script>        </div>"
            ]
          },
          "metadata": {},
          "output_type": "display_data"
        }
      ],
      "source": [
        "stat = stat_fun(dirc1)\n",
        "stat2 = stat_fun(dirc2)\n",
        "lists_of_lists = [list(stat.values()),list(stat2.values())]\n",
        "cells_stat = [x for x in zip(*lists_of_lists)]\n",
        "cells_stat.insert(0,(dirc1,dirc2))\n",
        "header_stat = list(stat.keys())\n",
        "header_stat.insert(0,'DataSet')\n",
        "\n",
        "stat_plot = go.FigureWidget(stat_plot)\n",
        "stat_plot.layout.height = 350\n",
        "stat_plot.layout.title.text = 'Info Card'\n",
        "stat_plot.layout.title.x = 0.5\n",
        "stat_plot.layout.title.y = 0.85\n",
        "go.Figure(stat_plot)"
      ]
    },
    {
      "cell_type": "code",
      "execution_count": null,
      "metadata": {
        "id": "LdPqMpeJi7O1",
        "outputId": "b1b97921-001f-48f5-fc91-1cd05e19c491",
        "colab": {
          "referenced_widgets": [
            "db6be7e669b14c0bb9dd59aed40416cd"
          ]
        }
      },
      "outputs": [
        {
          "data": {
            "application/vnd.jupyter.widget-view+json": {
              "model_id": "db6be7e669b14c0bb9dd59aed40416cd",
              "version_major": 2,
              "version_minor": 0
            },
            "text/plain": [
              "FigureWidget({\n",
              "    'data': [{'name': 'hi',\n",
              "              'orientation': 'h',\n",
              "              'type': 'bar',\n",
              "    …"
            ]
          },
          "metadata": {},
          "output_type": "display_data"
        }
      ],
      "source": [
        "\n",
        "\n",
        "\n",
        "\n",
        "ngram_plot"
      ]
    },
    {
      "cell_type": "markdown",
      "metadata": {
        "extensions": {
          "jupyter_dashboards": {
            "version": 1,
            "views": {
              "default_view": {
                "col": 0,
                "height": 2,
                "row": 25,
                "width": 12
              }
            }
          }
        },
        "id": "hGkX6dzzi7O2"
      },
      "source": [
        "# Focused look at a dataset"
      ]
    },
    {
      "cell_type": "code",
      "execution_count": null,
      "metadata": {
        "extensions": {
          "jupyter_dashboards": {
            "version": 1,
            "views": {
              "default_view": {
                "col": 2,
                "height": 10,
                "row": 41,
                "width": 7
              }
            }
          }
        },
        "pycharm": {
          "name": "#%%\n"
        },
        "id": "JjIs25ZEi7O2"
      },
      "outputs": [],
      "source": [
        "def over_view(df: pd.DataFrame,col : str, n : int,plot_text : str,plot = 'none'):\n",
        "    temp = df[col].value_counts().reset_index().sort_values(col,ascending=False).reset_index(drop = True)\n",
        "    temp = temp.replace(r'\\s+', ' ', regex=True)\n",
        "    temp.loc[temp['index'] == ' ','index'] = 'לא ידוע'\n",
        "    sum_all = temp[col].sum()\n",
        "    temp = temp[(temp[col]/temp[col].sum()).cumsum() < 0.90]\n",
        "    temp = temp.append({'index': 'others',col: sum_all - temp[col].sum()}, ignore_index=True)\n",
        "    return temp\n",
        "        \n",
        "def remove_stop_word(df:pd.Series) -> pd.Series:\n",
        "    stop = pd.read_csv(r'C:\\corpus\\heb_stopwords.txt', sep=\" \", header=None)\n",
        "    df = df.apply(lambda x: ' '.join([word for word in x.split() if word not in (stop)]))\n",
        "    return df\n",
        "\n",
        "# def sample(df,df_altr):\n",
        "#     n=5\n",
        "#     df = df.sample(n)\n",
        "#     if df_altr.shape[0] > 100:\n",
        "#         df_altr = df_altr.sample(n)\n",
        "#     return df, df_altr\n",
        "    \n",
        "\n",
        "out = widgets.Output()\n",
        "display(out)\n",
        "def focused_eventhandler(change):\n",
        "    os.chdir(r'C:\\corpus\\for display')\n",
        "    global df,main,df_altr,flag\n",
        "    if (change == 'ben yehuda'):\n",
        "        main = pd.read_csv(r'over_view/ben yehuda.csv')\n",
        "            \n",
        "        fig = make_subplots(\n",
        "            rows=2, cols=2,\n",
        "            specs=[[{\"type\": \"bar\"}, {\"type\": \"bar\"}],\n",
        "                    [{\"type\": \"pie\"}, {\"type\": \"pie\"}]],\n",
        "            subplot_titles = ('authors','translators','Distribution of genres','Distribution of translated languages')\n",
        "            )\n",
        "\n",
        "        temp = over_view(main,'authors',10,' ','bar')\n",
        "        fig.add_trace(go.Bar(y=temp['index'],\n",
        "                                 x=temp['authors'],\n",
        "                                orientation='h'),\n",
        "                          row=1, col=1)\n",
        "\n",
        "        temp = over_view(main[main['translators'].notnull()],'translators',10,'Translators','bar')\n",
        "        fig.add_trace(go.Bar(y=temp['index'],\n",
        "                                 x=temp['translators'],\n",
        "                                orientation='h'),\n",
        "                          row=1, col=2)\n",
        "\n",
        "        temp = over_view(main,'genre',10,'Distribution of genres','pie')\n",
        "        fig.add_trace(go.Pie(values=temp['genre'],\n",
        "                            labels=temp['index']),\n",
        "                        row=2, col=1)\n",
        "\n",
        "        temp = over_view(main,'original_language',10,'Distribution of translated languages','pie')\n",
        "        fig.add_trace(go.Pie(values=temp['original_language'],\n",
        "                            labels=temp['index']),\n",
        "                        row=2, col=2)\n",
        "\n",
        "        fig.update_layout(height=700, showlegend=False)\n",
        "\n",
        "        fig.show()\n",
        "    elif (change == 'think il'):\n",
        "        main = pd.read_csv(r'over_view/think il.csv')\n",
        "        temp = over_view(main,'author',10,'Distribution of authors','bar')\n",
        "        fig = go.Figure(\n",
        "            data=[go.Bar(x=temp['author'], y=temp['index'], orientation='h')],\n",
        "            layout=go.Layout(\n",
        "                title=go.layout.Title(text=\"Distribution of authors\")\n",
        "            )\n",
        "        )\n",
        "        fig.show()\n",
        "        \n",
        "    elif (change == 'ParaShoot'):\n",
        "        df = pd.read_csv('C:\\corpus\\ParaShoot\\df.csv',sep = '\\t')\n",
        "        temp = df[['title']].value_counts().to_frame().reset_index()\n",
        "        temp.columns = ['title','freq']\n",
        "        fig = go.Figure(\n",
        "            data=[go.Bar(y=temp['title'], x=temp['freq'], orientation='h')],\n",
        "            layout=go.Layout(\n",
        "                title=go.layout.Title(text=\"Distribution of article\")\n",
        "            )\n",
        "        )\n",
        "        fig.show()\n",
        "        \n",
        "    elif (change == 'Hebrew-Sentiment-Data'):\n",
        "        df = pd.read_csv('C:\\corpus\\Hebrew-Sentiment-Data\\dev.tsv',sep = '\\t')\n",
        "        df = df.rename(columns = {'comment':'line'})\n",
        "        df = df['label'].value_counts().to_frame().reset_index()\n",
        "        df.columns = ['lable','count']\n",
        "        fig = go.Figure(go.Pie(values=df['count'],\n",
        "                                    labels=['Positive','negative','neutral']))\n",
        "        fig.show()\n",
        "        \n",
        "    \n",
        "    elif (change == 'HeBERT Emotion Recognition'):\n",
        "        df = pd.read_csv(r'C:\\corpus\\HeBERT Emotion Recognition\\test_insample_tagged_raw_to_publish.csv')\n",
        "        df = df.rename(columns = {'talkbacks':'line'})\n",
        "\n",
        "        fig = make_subplots(\n",
        "                            rows=1, cols=3,\n",
        "                            specs=[[{\"type\": \"pie\"}, {\"type\": \"pie\"}, {\"type\": \"pie\"}]],\n",
        "                    subplot_titles = ('Emotion Distribution','Sentiment Distribution','Source of response')\n",
        "                    )\n",
        "        temp = df['emotion_en'].value_counts().to_frame().reset_index()\n",
        "        fig.add_trace(go.Pie(values=temp['emotion_en'],\n",
        "                                    labels=temp['index']),\n",
        "                                row=1, col=1)\n",
        "\n",
        "        temp = df['value'].value_counts().to_frame().reset_index()\n",
        "        fig.add_trace(go.Pie(values=temp['value'],\n",
        "                                    labels=temp['index']),\n",
        "                                row=1, col=2)\n",
        "\n",
        "        temp = df['source'].value_counts().to_frame().reset_index()\n",
        "        fig.add_trace(go.Pie(values=temp['source'],\n",
        "                                    labels=temp['index']),\n",
        "                                row=1, col=3)\n",
        "\n",
        "        fig.update_layout(height=700, showlegend=False)\n",
        "        fig.show()\n",
        "\n",
        "\n",
        "def main_load_dataset(dirc: list):\n",
        "    create_folder('over_view')\n",
        "    #ben yehuda\n",
        "    main = pd.read_csv(r'C:\\corpus\\ben yehuda\\pseudocatalogue.csv')\n",
        "    main[['authors','genre','original_language','translators']].to_csv(r'over_view/ben yehuda.csv')\n",
        "    \n",
        "    #think il\n",
        "    main = pd.read_csv(r'C:\\corpus\\think il\\df think IL token.tsv',sep = '\\t')\n",
        "    main = main.rename(columns={'text':'line','auther':'author'})\n",
        "    main['author'].to_csv(r'over_view/think il.csv')\n",
        "\n",
        "from plotly.subplots import make_subplots\n",
        "focused_widget = widgets.Dropdown(options = ['ben yehuda','think il','ParaShoot','Hebrew-Sentiment-Data','HeBERT Emotion Recognition'],\n",
        "                                  value = None,\n",
        "                                  description='Chose data')\n",
        "focused_view = widgets.interactive(focused_eventhandler, change=focused_widget)\n",
        "focused_widget.observe(lambda x: focused_view.update(), 'value')\n",
        "display(focused_view)"
      ]
    },
    {
      "cell_type": "code",
      "execution_count": null,
      "metadata": {
        "extensions": {
          "jupyter_dashboards": {
            "version": 1,
            "views": {
              "default_view": {
                "hidden": true
              }
            }
          }
        },
        "id": "dnMO60sLi7O3"
      },
      "outputs": [],
      "source": [
        ""
      ]
    }
  ],
  "metadata": {
    "extensions": {
      "jupyter_dashboards": {
        "activeView": "default_view",
        "version": 1,
        "views": {
          "default_view": {
            "cellMargin": 10,
            "defaultCellHeight": 40,
            "maxColumns": 12,
            "name": "active_view",
            "type": "grid"
          }
        }
      }
    },
    "kernelspec": {
      "display_name": "Python 3 (ipykernel)",
      "language": "python",
      "name": "python3"
    },
    "language_info": {
      "codemirror_mode": {
        "name": "ipython",
        "version": 3
      },
      "file_extension": ".py",
      "mimetype": "text/x-python",
      "name": "python",
      "nbconvert_exporter": "python",
      "pygments_lexer": "ipython3",
      "version": "3.9.7"
    },
    "colab": {
      "name": "function save new try Interactive .ipynb",
      "provenance": [],
      "include_colab_link": true
    }
  },
  "nbformat": 4,
  "nbformat_minor": 0
}